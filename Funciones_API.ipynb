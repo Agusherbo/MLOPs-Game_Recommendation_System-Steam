{
 "cells": [
  {
   "cell_type": "code",
   "execution_count": 18,
   "metadata": {},
   "outputs": [],
   "source": [
    "import pandas as pd"
   ]
  },
  {
   "cell_type": "code",
   "execution_count": 60,
   "metadata": {},
   "outputs": [],
   "source": [
    "games = pd.read_parquet('data_clean/1-games.parquet')\n",
    "reviews = pd.read_parquet('data_clean/2-reviews.parquet')\n",
    "items_spend = pd.read_parquet('data_clean/4-items_spend.parquet')\n",
    "items_dev = pd.read_parquet('data_clean/7-items_dev.parquet')\n",
    "usertime_year = pd.read_parquet('data_clean/8-usertime_year.parquet')\n",
    "best_dev = pd.read_parquet('data_clean/9-best_dev.parquet')"
   ]
  },
  {
   "cell_type": "code",
   "execution_count": 20,
   "metadata": {},
   "outputs": [
    {
     "name": "stdout",
     "output_type": "stream",
     "text": [
      "<class 'pandas.core.frame.DataFrame'>\n",
      "Index: 28842 entries, 0 to 71042\n",
      "Data columns (total 4 columns):\n",
      " #   Column        Non-Null Count  Dtype  \n",
      "---  ------        --------------  -----  \n",
      " 0   price         28842 non-null  float64\n",
      " 1   release_year  28842 non-null  int64  \n",
      " 2   developer     28842 non-null  object \n",
      " 3   item_id       28842 non-null  int64  \n",
      "dtypes: float64(1), int64(2), object(1)\n",
      "memory usage: 1.1+ MB\n"
     ]
    }
   ],
   "source": [
    "items_dev.info()"
   ]
  },
  {
   "cell_type": "markdown",
   "metadata": {},
   "source": [
    "### Funcion *developer*"
   ]
  },
  {
   "cell_type": "code",
   "execution_count": 21,
   "metadata": {},
   "outputs": [],
   "source": [
    "def developer(desarrollador:str):\n",
    "    \"\"\"\n",
    "    Esta función devuelve la cantidad de items y el porcentaje de contenido gratuito por año para una empresa desarrolladora.\n",
    "\n",
    "    Args:\n",
    "        desarrollador (str): El nombre de la empresa desarrolladora.\n",
    "\n",
    "    Returns:\n",
    "        dict: Un diccionario con la cantidad de items y el porcentaje de contenido gratuito por año.\n",
    "              Las claves son los años de lanzamiento y los valores son diccionarios con la siguiente estructura:\n",
    "              {'cantidad_items': int, 'porcentaje_gratis': float}\n",
    "    \"\"\"\n",
    "    # Filtrar el dataframe items_dev por la empresa desarrolladora especificada\n",
    "    df_filtrado = items_dev[items_dev['developer'] == desarrollador]\n",
    "\n",
    "    # Agrupar el dataframe filtrado por año de lanzamiento y calcular la cantidad de items y el conteo de contenido gratuito\n",
    "    resultado = df_filtrado.groupby('release_year').agg(cantidad_items=('item_id', 'count'),\n",
    "                                                        conteo_gratis=('price', lambda x: (x == 0.0).sum()))\n",
    "\n",
    "    # Calcular el porcentaje de contenido gratuito por año\n",
    "    resultado['porcentaje_gratis'] = (resultado['conteo_gratis'] / resultado['cantidad_items']) * 100\n",
    "\n",
    "    return resultado.to_dict(orient='index')"
   ]
  },
  {
   "cell_type": "code",
   "execution_count": 38,
   "metadata": {},
   "outputs": [
    {
     "data": {
      "text/plain": [
       "{1998: {'cantidad_items': 1, 'conteo_gratis': 0, 'porcentaje_gratis': 0.0},\n",
       " 1999: {'cantidad_items': 1, 'conteo_gratis': 0, 'porcentaje_gratis': 0.0},\n",
       " 2000: {'cantidad_items': 2, 'conteo_gratis': 0, 'porcentaje_gratis': 0.0},\n",
       " 2001: {'cantidad_items': 1, 'conteo_gratis': 0, 'porcentaje_gratis': 0.0},\n",
       " 2003: {'cantidad_items': 1, 'conteo_gratis': 0, 'porcentaje_gratis': 0.0},\n",
       " 2004: {'cantidad_items': 5, 'conteo_gratis': 0, 'porcentaje_gratis': 0.0},\n",
       " 2005: {'cantidad_items': 1, 'conteo_gratis': 1, 'porcentaje_gratis': 100.0},\n",
       " 2006: {'cantidad_items': 2, 'conteo_gratis': 0, 'porcentaje_gratis': 0.0},\n",
       " 2007: {'cantidad_items': 3,\n",
       "  'conteo_gratis': 1,\n",
       "  'porcentaje_gratis': 33.33333333333333},\n",
       " 2008: {'cantidad_items': 1, 'conteo_gratis': 0, 'porcentaje_gratis': 0.0},\n",
       " 2009: {'cantidad_items': 1, 'conteo_gratis': 0, 'porcentaje_gratis': 0.0},\n",
       " 2010: {'cantidad_items': 2, 'conteo_gratis': 1, 'porcentaje_gratis': 50.0},\n",
       " 2011: {'cantidad_items': 1, 'conteo_gratis': 0, 'porcentaje_gratis': 0.0},\n",
       " 2012: {'cantidad_items': 2, 'conteo_gratis': 1, 'porcentaje_gratis': 50.0},\n",
       " 2014: {'cantidad_items': 7, 'conteo_gratis': 7, 'porcentaje_gratis': 100.0},\n",
       " 2016: {'cantidad_items': 1, 'conteo_gratis': 1, 'porcentaje_gratis': 100.0},\n",
       " 2017: {'cantidad_items': 2, 'conteo_gratis': 0, 'porcentaje_gratis': 0.0}}"
      ]
     },
     "execution_count": 38,
     "metadata": {},
     "output_type": "execute_result"
    }
   ],
   "source": [
    "desarrollador = 'Valve'\n",
    "developer(desarrollador)"
   ]
  },
  {
   "cell_type": "markdown",
   "metadata": {},
   "source": [
    "### Función *userdata*"
   ]
  },
  {
   "cell_type": "code",
   "execution_count": 23,
   "metadata": {},
   "outputs": [
    {
     "name": "stdout",
     "output_type": "stream",
     "text": [
      "<class 'pandas.core.frame.DataFrame'>\n",
      "RangeIndex: 68403 entries, 0 to 68402\n",
      "Data columns (total 3 columns):\n",
      " #   Column       Non-Null Count  Dtype  \n",
      "---  ------       --------------  -----  \n",
      " 0   items_count  68403 non-null  int64  \n",
      " 1   user_id      68403 non-null  object \n",
      " 2   price        68403 non-null  float64\n",
      "dtypes: float64(1), int64(1), object(1)\n",
      "memory usage: 1.6+ MB\n"
     ]
    }
   ],
   "source": [
    "#imprimo info las tablas que voy a utilizar\n",
    "items_spend.info()"
   ]
  },
  {
   "cell_type": "code",
   "execution_count": 24,
   "metadata": {},
   "outputs": [
    {
     "name": "stdout",
     "output_type": "stream",
     "text": [
      "<class 'pandas.core.frame.DataFrame'>\n",
      "RangeIndex: 48690 entries, 0 to 48689\n",
      "Data columns (total 8 columns):\n",
      " #   Column              Non-Null Count  Dtype \n",
      "---  ------              --------------  ----- \n",
      " 0   user_id             48690 non-null  object\n",
      " 1   user_url            48690 non-null  object\n",
      " 2   reviews_item_id     48690 non-null  int64 \n",
      " 3   reviews_helpful     48690 non-null  object\n",
      " 4   reviews_recommend   48690 non-null  bool  \n",
      " 5   posted_year         48690 non-null  int64 \n",
      " 6   sentiment_analysis  48690 non-null  int64 \n",
      " 7   release_year        48690 non-null  int64 \n",
      "dtypes: bool(1), int64(4), object(3)\n",
      "memory usage: 2.6+ MB\n"
     ]
    }
   ],
   "source": [
    "reviews.info()"
   ]
  },
  {
   "cell_type": "code",
   "execution_count": 25,
   "metadata": {},
   "outputs": [],
   "source": [
    "def userData(user_id):\n",
    "    \"\"\"\n",
    "    Esta función devuelve la cantidad de dinero gastado por el usuario, el porcentaje de recomendación en base a reviews_recommend y cantidad de items.\n",
    "\n",
    "    Parámetros:\n",
    "    - user_id (int): Identificador único del usuario de interés.\n",
    "\n",
    "    Devuelve:\n",
    "    dict:\n",
    "        - 'usuario_': Identificador único del usuario.\n",
    "        - 'cantidad_dinero': Suma total de dinero gastado por el usuario en items_spend.\n",
    "        - 'porcentaje_recomendacion': Porcentaje de recomendaciones realizadas por el usuario en comparación\n",
    "          con el total de revisiones en el conjunto de datos.\n",
    "        - 'total_items': La cantidad máxima de items comprados por el usuario en items_spend.\n",
    "    \"\"\"\n",
    "    # Filtrar datos del usuario en items_spend\n",
    "    usuario_gastos = items_spend[items_spend[\"user_id\"] == user_id]\n",
    "\n",
    "    # Calcular la cantidad de dinero gastado y el total de items para el usuario de interés\n",
    "    cantidad_dinero = usuario_gastos[\"price\"].sum()\n",
    "    total_items = usuario_gastos[\"items_count\"].max()\n",
    "\n",
    "    # Calcular el total de recomendaciones realizadas por el usuario de interés\n",
    "    total_recomendaciones = reviews[reviews[\"user_id\"] == user_id][\"reviews_recommend\"].sum()\n",
    "\n",
    "    # Calcular el total de revisiones realizadas por todos los usuarios\n",
    "    total_reviews = len(reviews[\"user_id\"].unique())\n",
    "\n",
    "    # Calcular el porcentaje de recomendaciones realizadas por el usuario de interés\n",
    "    porcentaje_recomendaciones = (total_recomendaciones / total_reviews) * 100\n",
    "\n",
    "    # Retornar los resultados en un diccionario\n",
    "    return {\n",
    "        \"usuario_\": user_id,\n",
    "        \"cantidad_dinero\": int(cantidad_dinero),\n",
    "        \"porcentaje_recomendacion\": round(porcentaje_recomendaciones, 2),\n",
    "        \"total_items\": int(total_items),\n",
    "    }\n"
   ]
  },
  {
   "cell_type": "code",
   "execution_count": 39,
   "metadata": {},
   "outputs": [
    {
     "data": {
      "text/plain": [
       "{'usuario_': 'doctr',\n",
       " 'cantidad_dinero': 5125,\n",
       " 'porcentaje_recomendacion': 0.03,\n",
       " 'total_items': 541}"
      ]
     },
     "execution_count": 39,
     "metadata": {},
     "output_type": "execute_result"
    }
   ],
   "source": [
    "user_id = 'doctr'\n",
    "userData(user_id)"
   ]
  },
  {
   "cell_type": "markdown",
   "metadata": {},
   "source": [
    "#### Función *UserForGenre*"
   ]
  },
  {
   "cell_type": "code",
   "execution_count": 27,
   "metadata": {},
   "outputs": [
    {
     "name": "stdout",
     "output_type": "stream",
     "text": [
      "<class 'pandas.core.frame.DataFrame'>\n",
      "Index: 67848 entries, 0 to 113499\n",
      "Data columns (total 5 columns):\n",
      " #   Column            Non-Null Count  Dtype  \n",
      "---  ------            --------------  -----  \n",
      " 0   playtime_forever  67848 non-null  float64\n",
      " 1   user_id           67848 non-null  object \n",
      " 2   item_id           67848 non-null  int64  \n",
      " 3   genres            67848 non-null  object \n",
      " 4   release_year      67848 non-null  int64  \n",
      "dtypes: float64(1), int64(2), object(2)\n",
      "memory usage: 3.1+ MB\n"
     ]
    }
   ],
   "source": [
    "usertime_year.info()"
   ]
  },
  {
   "cell_type": "code",
   "execution_count": 28,
   "metadata": {
    "vscode": {
     "languageId": "ruby"
    }
   },
   "outputs": [],
   "source": [
    "def userForGenre(genero:str):\n",
    "    # Filtrar el dataframe por el género dado\n",
    "    usertime_year_filtrado = usertime_year[usertime_year['genres'] == genero]\n",
    "\n",
    "    # Obtener el usuario con más horas jugadas para el género dado\n",
    "    usuario_mas_jugado = usertime_year_filtrado.loc[usertime_year_filtrado['playtime_forever'].idxmax(), 'user_id']\n",
    "\n",
    "    # Calcular la acumulación de horas jugadas por año de lanzamiento\n",
    "    acumulacion_horas = usertime_year_filtrado.groupby('release_year')['playtime_forever'].sum().reset_index()\n",
    "    acumulacion_horas = acumulacion_horas.rename(columns={'playtime_forever': 'Horas'})\n",
    "\n",
    "    # Convertir el resultado a un diccionario\n",
    "    resultado = {\n",
    "        \"Usuario con más horas jugadas para \" + genero: usuario_mas_jugado,\n",
    "        \"Horas jugadas\": acumulacion_horas.to_dict(orient='records')\n",
    "    }\n",
    "\n",
    "    return resultado"
   ]
  },
  {
   "cell_type": "code",
   "execution_count": 40,
   "metadata": {
    "vscode": {
     "languageId": "ruby"
    }
   },
   "outputs": [
    {
     "data": {
      "text/plain": [
       "{'Usuario con más horas jugadas para Indie': '76561198055326819',\n",
       " 'Horas jugadas': [{'release_year': 2004, 'Horas': 81.47},\n",
       "  {'release_year': 2005, 'Horas': 77.37},\n",
       "  {'release_year': 2006, 'Horas': 2363507.03},\n",
       "  {'release_year': 2007, 'Horas': 27.39},\n",
       "  {'release_year': 2008, 'Horas': 2145.02},\n",
       "  {'release_year': 2009, 'Horas': 119.75},\n",
       "  {'release_year': 2010, 'Horas': 1025.57},\n",
       "  {'release_year': 2011, 'Horas': 215.25},\n",
       "  {'release_year': 2012, 'Horas': 3112.83},\n",
       "  {'release_year': 2013, 'Horas': 2256.46},\n",
       "  {'release_year': 2014, 'Horas': 24.53},\n",
       "  {'release_year': 2015, 'Horas': 1356.45},\n",
       "  {'release_year': 2016, 'Horas': 120.47999999999999},\n",
       "  {'release_year': 2017, 'Horas': 0.2}]}"
      ]
     },
     "execution_count": 40,
     "metadata": {},
     "output_type": "execute_result"
    }
   ],
   "source": [
    "#ejemplo de uso\n",
    "genero = 'Indie'\n",
    "userForGenre(genero)"
   ]
  },
  {
   "cell_type": "markdown",
   "metadata": {},
   "source": [
    "### Función *best_developer_year*"
   ]
  },
  {
   "cell_type": "code",
   "execution_count": 30,
   "metadata": {},
   "outputs": [
    {
     "name": "stdout",
     "output_type": "stream",
     "text": [
      "<class 'pandas.core.frame.DataFrame'>\n",
      "Index: 6441 entries, 21 to 74446\n",
      "Data columns (total 6 columns):\n",
      " #   Column              Non-Null Count  Dtype  \n",
      "---  ------              --------------  -----  \n",
      " 0   price               6441 non-null   float64\n",
      " 1   release_year        6441 non-null   int64  \n",
      " 2   developer           6441 non-null   object \n",
      " 3   item_id             6441 non-null   int64  \n",
      " 4   reviews_recommend   6441 non-null   bool   \n",
      " 5   sentiment_analysis  6441 non-null   float64\n",
      "dtypes: bool(1), float64(2), int64(2), object(1)\n",
      "memory usage: 308.2+ KB\n"
     ]
    }
   ],
   "source": [
    "best_dev.info()"
   ]
  },
  {
   "cell_type": "code",
   "execution_count": 42,
   "metadata": {
    "vscode": {
     "languageId": "ruby"
    }
   },
   "outputs": [],
   "source": [
    "def best_developer_year(year):\n",
    "    \"\"\"\n",
    "    Esta función devuelve el top 3 de desarrolladores con los juegos más recomendados y con un análisis de sentimiento igual a 2 para el año dado.\n",
    "\n",
    "    Args:\n",
    "        best_dev (pandas.DataFrame): El dataframe que contiene los datos.\n",
    "        year (int): El año para el cual se desea obtener el top.\n",
    "\n",
    "    Returns:\n",
    "        list: Una lista con los nombres de los desarrolladores en el top 3.\n",
    "    \"\"\"\n",
    "    # Filtrar el dataframe por el año y las condiciones de recomendación y análisis de sentimiento\n",
    "    filtered_df = best_dev[(best_dev['release_year'] == year) & (best_dev['reviews_recommend'] == True) & (best_dev['sentiment_analysis'] == 2)]\n",
    "\n",
    "    # Agrupar por desarrollador y contar el número de juegos recomendados\n",
    "    developer_counts = filtered_df.groupby('developer').size().reset_index(name='count')\n",
    "\n",
    "    # Ordenar en orden descendente y obtener los 3 primeros desarrolladores\n",
    "    top_developers = developer_counts.nlargest(3, 'count')['developer'].tolist()\n",
    "    \n",
    "    #imprimir el resultado como un ranking del 1 al 3\n",
    "    for i, developer in enumerate(top_developers):\n",
    "        print(f'{i + 1}. {developer}')\n",
    "\n",
    "    return top_developers"
   ]
  },
  {
   "cell_type": "code",
   "execution_count": 43,
   "metadata": {},
   "outputs": [
    {
     "name": "stdout",
     "output_type": "stream",
     "text": [
      "1. BioWare\n",
      "2. Obsidian Entertainment\n",
      "3. Telltale Games\n"
     ]
    },
    {
     "data": {
      "text/plain": [
       "['BioWare', 'Obsidian Entertainment', 'Telltale Games']"
      ]
     },
     "execution_count": 43,
     "metadata": {},
     "output_type": "execute_result"
    }
   ],
   "source": [
    "# Ejemplo de uso\n",
    "year = 2010\n",
    "best_developer_year(year)\n"
   ]
  },
  {
   "cell_type": "markdown",
   "metadata": {},
   "source": [
    "### Función *developer_reviews_analysis*"
   ]
  },
  {
   "cell_type": "code",
   "execution_count": 61,
   "metadata": {},
   "outputs": [],
   "source": [
    "def developer_reviews_analysis(desarrollador):\n",
    "    \"\"\"\n",
    "    Analiza las reseñas de usuarios para un desarrollador específico y devuelve un diccionario con la cantidad total\n",
    "    de registros de reseñas categorizados con un análisis de sentimiento como positivo o negativo.\n",
    "\n",
    "    Parámetros:\n",
    "    - desarrollador (str): Nombre del desarrollador para el cual se desea realizar el análisis.\n",
    "\n",
    "    Retorna:\n",
    "    dict: Un diccionario con el nombre del desarrollador como llave y una lista con la cantidad total de registros de\n",
    "    reseñas categorizados con un análisis de sentimiento como valor positivo o negativo.\n",
    "    \"\"\"\n",
    "    # Filtra el DataFrame por el desarrollador deseado\n",
    "    df_desarrollador = best_dev[best_dev['developer'] == desarrollador]\n",
    "\n",
    "    # Cuenta la cantidad total de registros de reseñas categorizados como positivos o negativos\n",
    "    sentiment_counts = df_desarrollador['sentiment_analysis'].value_counts().to_dict()\n",
    "\n",
    "    # Asegurar que ambos sentimientos (positivo y negativo) están en el diccionario, incluso si son 0\n",
    "    result = {\n",
    "        desarrollador: {\n",
    "            'Negativas': sentiment_counts.get(0, 0), \n",
    "            'Positivas': sentiment_counts.get(2, 0)\n",
    "        }\n",
    "    }\n",
    "\n",
    "    return result\n"
   ]
  },
  {
   "cell_type": "code",
   "execution_count": 63,
   "metadata": {},
   "outputs": [
    {
     "data": {
      "text/plain": [
       "{'Valve': {'Negativas': 30, 'Positivas': 35}}"
      ]
     },
     "execution_count": 63,
     "metadata": {},
     "output_type": "execute_result"
    }
   ],
   "source": [
    "# Ejemplo de uso\n",
    "desarrollador = 'Valve'\n",
    "developer_reviews_analysis(desarrollador)"
   ]
  },
  {
   "cell_type": "code",
   "execution_count": null,
   "metadata": {},
   "outputs": [],
   "source": []
  }
 ],
 "metadata": {
  "kernelspec": {
   "display_name": "Python 3",
   "language": "python",
   "name": "python3"
  },
  "language_info": {
   "codemirror_mode": {
    "name": "ipython",
    "version": 3
   },
   "file_extension": ".py",
   "mimetype": "text/x-python",
   "name": "python",
   "nbconvert_exporter": "python",
   "pygments_lexer": "ipython3",
   "version": "3.12.2"
  }
 },
 "nbformat": 4,
 "nbformat_minor": 2
}
