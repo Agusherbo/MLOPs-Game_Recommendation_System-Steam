{
 "cells": [
  {
   "cell_type": "markdown",
   "metadata": {},
   "source": [
    "#### Análisis Exploratorio de Datos (EDA)"
   ]
  },
  {
   "cell_type": "code",
   "execution_count": 2,
   "metadata": {},
   "outputs": [],
   "source": [
    "import pandas as pd\n",
    "import matplotlib.pyplot as plt\n",
    "import seaborn as sns\n",
    "import pyarrow as pa\n",
    "import pyarrow.parquet as pq\n",
    "import warnings\n",
    "warnings.filterwarnings('ignore')"
   ]
  },
  {
   "cell_type": "markdown",
   "metadata": {},
   "source": [
    "#### **EDA del dataset steam_games**"
   ]
  },
  {
   "cell_type": "code",
   "execution_count": 3,
   "metadata": {},
   "outputs": [
    {
     "data": {
      "text/html": [
       "<div>\n",
       "<style scoped>\n",
       "    .dataframe tbody tr th:only-of-type {\n",
       "        vertical-align: middle;\n",
       "    }\n",
       "\n",
       "    .dataframe tbody tr th {\n",
       "        vertical-align: top;\n",
       "    }\n",
       "\n",
       "    .dataframe thead th {\n",
       "        text-align: right;\n",
       "    }\n",
       "</style>\n",
       "<table border=\"1\" class=\"dataframe\">\n",
       "  <thead>\n",
       "    <tr style=\"text-align: right;\">\n",
       "      <th></th>\n",
       "      <th>genres</th>\n",
       "      <th>price</th>\n",
       "      <th>early_access</th>\n",
       "      <th>id</th>\n",
       "      <th>release_year</th>\n",
       "      <th>publisher</th>\n",
       "      <th>app_name</th>\n",
       "      <th>title</th>\n",
       "      <th>developer</th>\n",
       "    </tr>\n",
       "  </thead>\n",
       "  <tbody>\n",
       "    <tr>\n",
       "      <th>0</th>\n",
       "      <td>Action</td>\n",
       "      <td>4.99</td>\n",
       "      <td>False</td>\n",
       "      <td>761140</td>\n",
       "      <td>2018</td>\n",
       "      <td>Kotoshiro</td>\n",
       "      <td>Lost Summoner Kitty</td>\n",
       "      <td>Lost Summoner Kitty</td>\n",
       "      <td>Kotoshiro</td>\n",
       "    </tr>\n",
       "    <tr>\n",
       "      <th>1</th>\n",
       "      <td>Casual</td>\n",
       "      <td>4.99</td>\n",
       "      <td>False</td>\n",
       "      <td>761140</td>\n",
       "      <td>2018</td>\n",
       "      <td>Kotoshiro</td>\n",
       "      <td>Lost Summoner Kitty</td>\n",
       "      <td>Lost Summoner Kitty</td>\n",
       "      <td>Kotoshiro</td>\n",
       "    </tr>\n",
       "    <tr>\n",
       "      <th>2</th>\n",
       "      <td>Indie</td>\n",
       "      <td>4.99</td>\n",
       "      <td>False</td>\n",
       "      <td>761140</td>\n",
       "      <td>2018</td>\n",
       "      <td>Kotoshiro</td>\n",
       "      <td>Lost Summoner Kitty</td>\n",
       "      <td>Lost Summoner Kitty</td>\n",
       "      <td>Kotoshiro</td>\n",
       "    </tr>\n",
       "    <tr>\n",
       "      <th>3</th>\n",
       "      <td>Simulation</td>\n",
       "      <td>4.99</td>\n",
       "      <td>False</td>\n",
       "      <td>761140</td>\n",
       "      <td>2018</td>\n",
       "      <td>Kotoshiro</td>\n",
       "      <td>Lost Summoner Kitty</td>\n",
       "      <td>Lost Summoner Kitty</td>\n",
       "      <td>Kotoshiro</td>\n",
       "    </tr>\n",
       "    <tr>\n",
       "      <th>4</th>\n",
       "      <td>Strategy</td>\n",
       "      <td>4.99</td>\n",
       "      <td>False</td>\n",
       "      <td>761140</td>\n",
       "      <td>2018</td>\n",
       "      <td>Kotoshiro</td>\n",
       "      <td>Lost Summoner Kitty</td>\n",
       "      <td>Lost Summoner Kitty</td>\n",
       "      <td>Kotoshiro</td>\n",
       "    </tr>\n",
       "  </tbody>\n",
       "</table>\n",
       "</div>"
      ],
      "text/plain": [
       "       genres  price  early_access      id  release_year  publisher  \\\n",
       "0      Action   4.99         False  761140          2018  Kotoshiro   \n",
       "1      Casual   4.99         False  761140          2018  Kotoshiro   \n",
       "2       Indie   4.99         False  761140          2018  Kotoshiro   \n",
       "3  Simulation   4.99         False  761140          2018  Kotoshiro   \n",
       "4    Strategy   4.99         False  761140          2018  Kotoshiro   \n",
       "\n",
       "              app_name                title  developer  \n",
       "0  Lost Summoner Kitty  Lost Summoner Kitty  Kotoshiro  \n",
       "1  Lost Summoner Kitty  Lost Summoner Kitty  Kotoshiro  \n",
       "2  Lost Summoner Kitty  Lost Summoner Kitty  Kotoshiro  \n",
       "3  Lost Summoner Kitty  Lost Summoner Kitty  Kotoshiro  \n",
       "4  Lost Summoner Kitty  Lost Summoner Kitty  Kotoshiro  "
      ]
     },
     "execution_count": 3,
     "metadata": {},
     "output_type": "execute_result"
    }
   ],
   "source": [
    "games = pd.read_parquet(\"data_clean/1-games.parquet\")\n",
    "games.head()"
   ]
  },
  {
   "cell_type": "code",
   "execution_count": 4,
   "metadata": {},
   "outputs": [
    {
     "name": "stdout",
     "output_type": "stream",
     "text": [
      "<class 'pandas.core.frame.DataFrame'>\n",
      "RangeIndex: 71044 entries, 0 to 71043\n",
      "Data columns (total 9 columns):\n",
      " #   Column        Non-Null Count  Dtype  \n",
      "---  ------        --------------  -----  \n",
      " 0   genres        71044 non-null  object \n",
      " 1   price         71044 non-null  float64\n",
      " 2   early_access  71044 non-null  bool   \n",
      " 3   id            71044 non-null  int64  \n",
      " 4   release_year  71044 non-null  int64  \n",
      " 5   publisher     70997 non-null  object \n",
      " 6   app_name      71044 non-null  object \n",
      " 7   title         71044 non-null  object \n",
      " 8   developer     71044 non-null  object \n",
      "dtypes: bool(1), float64(1), int64(2), object(5)\n",
      "memory usage: 4.4+ MB\n"
     ]
    },
    {
     "data": {
      "text/plain": [
       "(71044, 9)"
      ]
     },
     "execution_count": 4,
     "metadata": {},
     "output_type": "execute_result"
    }
   ],
   "source": [
    "games.info()\n",
    "games.shape"
   ]
  },
  {
   "cell_type": "code",
   "execution_count": 5,
   "metadata": {},
   "outputs": [
    {
     "name": "stdout",
     "output_type": "stream",
     "text": [
      "publisher       0.066156\n",
      "genres          0.000000\n",
      "price           0.000000\n",
      "early_access    0.000000\n",
      "id              0.000000\n",
      "release_year    0.000000\n",
      "app_name        0.000000\n",
      "title           0.000000\n",
      "developer       0.000000\n",
      "dtype: float64\n",
      "(71044, 9)\n"
     ]
    }
   ],
   "source": [
    "#verificamos cantidad de nulos por columna \n",
    "print(games.isna().sum().sort_values(ascending= False)/len(games) * 100)\n",
    "print(games.shape)"
   ]
  },
  {
   "cell_type": "markdown",
   "metadata": {},
   "source": [
    "Vamos a hacer una exploracion sobre distintos atributos del dataset games"
   ]
  },
  {
   "cell_type": "markdown",
   "metadata": {},
   "source": [
    "**Atributo 'id'**"
   ]
  },
  {
   "cell_type": "code",
   "execution_count": 6,
   "metadata": {},
   "outputs": [
    {
     "name": "stdout",
     "output_type": "stream",
     "text": [
      "Steam posee la cantidad de 28842 productos únicosen su catálogo\n"
     ]
    }
   ],
   "source": [
    "total_games = len(games['id'].unique())\n",
    "print(f\"Steam posee la cantidad de {total_games} productos únicosen su catálogo\")"
   ]
  },
  {
   "cell_type": "markdown",
   "metadata": {},
   "source": [
    "**Atributo 'genres'**"
   ]
  },
  {
   "cell_type": "code",
   "execution_count": 7,
   "metadata": {},
   "outputs": [
    {
     "data": {
      "image/png": "[encoded data removed]",
      "text/plain": [
       "<Figure size 800x500 with 1 Axes>"
      ]
     },
     "metadata": {},
     "output_type": "display_data"
    }
   ],
   "source": [
    "# Distribución de Juegos por Género en Steam\n",
    "# Visualizamos cuál género tiene más juegos\n",
    "plt.figure(figsize=(8, 5))\n",
    "ax = sns.countplot(data=games, y='genres', order=games['genres'].value_counts().index, hue='genres', dodge=False)\n",
    "ax.set_title('Distribución de Juegos por Género en Steam', fontsize=14)\n",
    "ax.set_xlabel('Número de Juegos', fontsize=14)\n",
    "ax.set_ylabel('Género', fontsize=14)\n",
    "\n",
    "plt.show()"
   ]
  },
  {
   "cell_type": "markdown",
   "metadata": {},
   "source": [
    "* Géneros con mayor cantidad de juegos son: Indie, Casual, Action y Adventure"
   ]
  },
  {
   "cell_type": "markdown",
   "metadata": {},
   "source": [
    "**Atributo 'release_year'**"
   ]
  },
  {
   "cell_type": "code",
   "execution_count": 8,
   "metadata": {},
   "outputs": [
    {
     "data": {
      "text/plain": [
       "release_year\n",
       "2017    25018\n",
       "2016    17738\n",
       "2015    12335\n",
       "2014     6361\n",
       "2013     3038\n",
       "2012     2127\n",
       "2011     1001\n",
       "2010      666\n",
       "2009      486\n",
       "2008      337\n",
       "2018      316\n",
       "2007      266\n",
       "2006      222\n",
       "2005      142\n",
       "2003      119\n",
       "2001      112\n",
       "2004       99\n",
       "1999       81\n",
       "1998       78\n",
       "1997       64\n",
       "2002       64\n",
       "2000       59\n",
       "1996       57\n",
       "1994       52\n",
       "1995       49\n",
       "1993       43\n",
       "1992       24\n",
       "1991       22\n",
       "1990       14\n",
       "1989       11\n",
       "2019       10\n",
       "1988        9\n",
       "1984        5\n",
       "1987        5\n",
       "1986        5\n",
       "1983        3\n",
       "2021        3\n",
       "1985        2\n",
       "1982        1\n",
       "Name: count, dtype: int64"
      ]
     },
     "execution_count": 8,
     "metadata": {},
     "output_type": "execute_result"
    }
   ],
   "source": [
    "#contamos cuantos juegos lanzaron por año \n",
    "year_releases = games[\"release_year\"].value_counts()\n",
    "year_releases"
   ]
  },
  {
   "cell_type": "code",
   "execution_count": 9,
   "metadata": {},
   "outputs": [
    {
     "data": {
      "image/png": "[encoded data removed]",
      "text/plain": [
       "<Figure size 1400x500 with 1 Axes>"
      ]
     },
     "metadata": {},
     "output_type": "display_data"
    }
   ],
   "source": [
    "# Crear la gráfica de barras\n",
    "plt.figure(figsize=(14, 5))\n",
    "sns.barplot(x=year_releases.index, y=year_releases.values, palette=\"colorblind\")\n",
    "plt.xlabel('Release Year') ; plt.ylabel('Item count') ; plt.title('Item Release Year Distribution')\n",
    "plt.xticks(rotation=45, ha='right')\n",
    "plt.tight_layout()\n",
    "plt.show()"
   ]
  },
  {
   "cell_type": "markdown",
   "metadata": {},
   "source": [
    "* Se observa que hubo un gran crecimiento en la cantidad de juegos lanzados a lo largo del tiempo con un punto maximo en 2017 de 25018 juegos lanzados "
   ]
  },
  {
   "cell_type": "markdown",
   "metadata": {},
   "source": [
    "**Atributos 'developer' y 'publisher'**"
   ]
  },
  {
   "cell_type": "code",
   "execution_count": 10,
   "metadata": {},
   "outputs": [
    {
     "name": "stdout",
     "output_type": "stream",
     "text": [
      "publisher\n",
      "KISS ltd                   803\n",
      "Ubisoft                    683\n",
      "Degica                     531\n",
      "Paradox Interactive        435\n",
      "Big Fish Games             380\n",
      "SEGA                       371\n",
      "Dovetail Games - Trains    359\n",
      "THQ Nordic                 351\n",
      "ArcaneRaise                323\n",
      "Aldorlea Games             276\n",
      "Name: count, dtype: int64\n",
      "developer\n",
      "Ubisoft - San Francisco       2516\n",
      "SmiteWorks USA, LLC           2364\n",
      "Sin dato disponible            707\n",
      "DL Softworks                   495\n",
      "Ronimo Games                   379\n",
      "Paradox Development Studio     311\n",
      "Musopia                        285\n",
      "Arcane Raise                   265\n",
      "Dovetail Games                 256\n",
      "Choice of Games                248\n",
      "Name: count, dtype: int64\n"
     ]
    }
   ],
   "source": [
    "# cuenta la cantidad de juegos por publisher. Omite los valores nulos\n",
    "publisher_count = games[games['publisher'].notnull() & (games['publisher'] != 'Sin dato disponible')]['publisher'].value_counts()\n",
    "\n",
    "#cuenta la cantidad de juegos por developer \n",
    "dev_count = games['developer'].value_counts()\n",
    "\n",
    "print(publisher_count.head(10))\n",
    "print(dev_count.head(10))"
   ]
  },
  {
   "cell_type": "code",
   "execution_count": 11,
   "metadata": {},
   "outputs": [
    {
     "data": {
      "image/png": "[encoded data removed]",
      "text/plain": [
       "<Figure size 1200x500 with 2 Axes>"
      ]
     },
     "metadata": {},
     "output_type": "display_data"
    }
   ],
   "source": [
    "# Crear una figura con dos subplots uno al lado del otro\n",
    "fig, axes = plt.subplots(nrows=1, ncols=2, figsize=(12, 5))\n",
    "\n",
    "# Primer subplot para los publishers\n",
    "publisher_count[:10].plot(kind='bar', color='orange', ax=axes[0])\n",
    "axes[0].set_xlabel('Publisher')\n",
    "axes[0].set_ylabel('Cantidad de Juegos')\n",
    "axes[0].set_title('Top 10 Publishers')\n",
    "\n",
    "# Segundo subplot para los developers\n",
    "dev_count[:10].plot(kind='bar', color='lightblue', ax=axes[1])\n",
    "axes[1].set_xlabel('Developer')\n",
    "axes[1].set_ylabel('Cantidad de Juegos')\n",
    "axes[1].set_title('Top 10 Developers')\n",
    "\n",
    "# Ajustar el espaciado entre subplots\n",
    "plt.tight_layout()\n",
    "plt.show()"
   ]
  },
  {
   "cell_type": "markdown",
   "metadata": {},
   "source": [
    "* En el campo de los desarrolladores, Ubisoft y SmiteWorks son que mas juegos han desarrollado, con gran diferencia al resto.\n",
    "* En el caso de los publichers KISS ltd y Ubisoft son las que mas juegos publicaron pero sin un gran diferencia frente a las demas empresas."
   ]
  },
  {
   "cell_type": "markdown",
   "metadata": {},
   "source": [
    "**Atributo 'price'**"
   ]
  },
  {
   "cell_type": "code",
   "execution_count": 12,
   "metadata": {},
   "outputs": [],
   "source": [
    "# Obtiene los precios para cada juego y hace un dataframe\n",
    "unique_prices = games.groupby('id')['price'].unique().reset_index().explode('price')\n",
    "df_unique_prices = unique_prices"
   ]
  },
  {
   "cell_type": "code",
   "execution_count": 13,
   "metadata": {},
   "outputs": [
    {
     "data": {
      "text/html": [
       "<div>\n",
       "<style scoped>\n",
       "    .dataframe tbody tr th:only-of-type {\n",
       "        vertical-align: middle;\n",
       "    }\n",
       "\n",
       "    .dataframe tbody tr th {\n",
       "        vertical-align: top;\n",
       "    }\n",
       "\n",
       "    .dataframe thead th {\n",
       "        text-align: right;\n",
       "    }\n",
       "</style>\n",
       "<table border=\"1\" class=\"dataframe\">\n",
       "  <thead>\n",
       "    <tr style=\"text-align: right;\">\n",
       "      <th></th>\n",
       "      <th>id</th>\n",
       "      <th>price</th>\n",
       "    </tr>\n",
       "  </thead>\n",
       "  <tbody>\n",
       "    <tr>\n",
       "      <th>0</th>\n",
       "      <td>10</td>\n",
       "      <td>9.99</td>\n",
       "    </tr>\n",
       "    <tr>\n",
       "      <th>1</th>\n",
       "      <td>20</td>\n",
       "      <td>4.99</td>\n",
       "    </tr>\n",
       "    <tr>\n",
       "      <th>2</th>\n",
       "      <td>30</td>\n",
       "      <td>4.99</td>\n",
       "    </tr>\n",
       "    <tr>\n",
       "      <th>3</th>\n",
       "      <td>40</td>\n",
       "      <td>4.99</td>\n",
       "    </tr>\n",
       "    <tr>\n",
       "      <th>4</th>\n",
       "      <td>50</td>\n",
       "      <td>4.99</td>\n",
       "    </tr>\n",
       "    <tr>\n",
       "      <th>...</th>\n",
       "      <td>...</td>\n",
       "      <td>...</td>\n",
       "    </tr>\n",
       "    <tr>\n",
       "      <th>28837</th>\n",
       "      <td>901805</td>\n",
       "      <td>4.99</td>\n",
       "    </tr>\n",
       "    <tr>\n",
       "      <th>28838</th>\n",
       "      <td>2028055</td>\n",
       "      <td>24.99</td>\n",
       "    </tr>\n",
       "    <tr>\n",
       "      <th>28839</th>\n",
       "      <td>2028056</td>\n",
       "      <td>14.99</td>\n",
       "    </tr>\n",
       "    <tr>\n",
       "      <th>28840</th>\n",
       "      <td>2028103</td>\n",
       "      <td>29.99</td>\n",
       "    </tr>\n",
       "    <tr>\n",
       "      <th>28841</th>\n",
       "      <td>2028850</td>\n",
       "      <td>4.99</td>\n",
       "    </tr>\n",
       "  </tbody>\n",
       "</table>\n",
       "<p>28842 rows × 2 columns</p>\n",
       "</div>"
      ],
      "text/plain": [
       "            id  price\n",
       "0           10   9.99\n",
       "1           20   4.99\n",
       "2           30   4.99\n",
       "3           40   4.99\n",
       "4           50   4.99\n",
       "...        ...    ...\n",
       "28837   901805   4.99\n",
       "28838  2028055  24.99\n",
       "28839  2028056  14.99\n",
       "28840  2028103  29.99\n",
       "28841  2028850   4.99\n",
       "\n",
       "[28842 rows x 2 columns]"
      ]
     },
     "execution_count": 13,
     "metadata": {},
     "output_type": "execute_result"
    }
   ],
   "source": [
    "df_unique_prices"
   ]
  },
  {
   "cell_type": "code",
   "execution_count": 14,
   "metadata": {},
   "outputs": [
    {
     "data": {
      "image/png": "[encoded data removed]",
      "text/plain": [
       "<Figure size 1000x500 with 1 Axes>"
      ]
     },
     "metadata": {},
     "output_type": "display_data"
    }
   ],
   "source": [
    "#crea un grafico de densidad con df_precio_unicos\n",
    "plt.figure(figsize=(10, 5))\n",
    "sns.kdeplot(data=df_unique_prices, x='price', color='skyblue', fill=True)\n",
    "plt.xlabel('Precio') ; plt.ylabel('Densidad') ; plt.title('Distribución de Precios de Juegos en Steam')\n",
    "plt.show()"
   ]
  },
  {
   "cell_type": "code",
   "execution_count": 15,
   "metadata": {},
   "outputs": [
    {
     "data": {
      "image/png": "[encoded data removed]",
      "text/plain": [
       "<Figure size 1000x500 with 1 Axes>"
      ]
     },
     "metadata": {},
     "output_type": "display_data"
    }
   ],
   "source": [
    "#grafico de violin con df_precio_unicos\n",
    "plt.figure(figsize=(10, 5))\n",
    "sns.violinplot(data=df_unique_prices, x='price', color='skyblue')\n",
    "plt.xlabel('Precio') ; plt.title('Distribución de Precios de Juegos en Steam')\n",
    "plt.show()\n"
   ]
  },
  {
   "cell_type": "code",
   "execution_count": 16,
   "metadata": {},
   "outputs": [
    {
     "data": {
      "image/png": "[encoded data removed]",
      "text/plain": [
       "<Figure size 1200x500 with 1 Axes>"
      ]
     },
     "metadata": {},
     "output_type": "display_data"
    }
   ],
   "source": [
    "#crea un histograma de los precios de los juegos en steam \n",
    "plt.figure(figsize=(12, 5))\n",
    "sns.histplot(df_unique_prices['price'], bins=50, color='skyblue')\n",
    "plt.xlabel('Precio') ; plt.ylabel('Cantidad de Juegos') ; plt.title('Distribución de Precios de Juegos en Steam')\n",
    "plt.show()\n"
   ]
  },
  {
   "cell_type": "code",
   "execution_count": 17,
   "metadata": {},
   "outputs": [
    {
     "data": {
      "image/png": "[encoded data removed]",
      "text/plain": [
       "<Figure size 1200x500 with 1 Axes>"
      ]
     },
     "metadata": {},
     "output_type": "display_data"
    }
   ],
   "source": [
    "# crea un boxplot de los precios de los juegos en steam \n",
    "#ponele nombres a cada eje. El eje X es precio y el eje Y es cantidad de juegos\n",
    "plt.figure(figsize=(12, 5))\n",
    "sns.boxplot(x=df_unique_prices['price'], color='skyblue')\n",
    "plt.xlabel('Precio') ; plt.title('Distribución de Precios de Juegos en Steam')\n",
    "plt.show()\n"
   ]
  },
  {
   "cell_type": "code",
   "execution_count": 18,
   "metadata": {},
   "outputs": [
    {
     "data": {
      "image/png": "[encoded data removed]",
      "text/plain": [
       "<Figure size 1400x400 with 1 Axes>"
      ]
     },
     "metadata": {},
     "output_type": "display_data"
    }
   ],
   "source": [
    "fig, ax1 = plt.subplots(1, 1, figsize=(14, 4))  # Cambiado para usar solo un subplot\n",
    "\n",
    "sns.stripplot(data=df_unique_prices, x='price', ax=ax1)  # Especifica la columna 'price' como 'x'\n",
    "ax1.set_xlabel('Price (USD)') ; ax1.set_ylabel('Item count') ; ax1.set_title('Item price distribution')\n",
    "\n",
    "# Muestra y ajustar el espaciado entre subplots\n",
    "plt.tight_layout()\n",
    "plt.show()"
   ]
  },
  {
   "cell_type": "code",
   "execution_count": 19,
   "metadata": {},
   "outputs": [
    {
     "name": "stdout",
     "output_type": "stream",
     "text": [
      "Mediana: 4.99\n",
      "Media: 8.667592399969022\n",
      "Desviación Estándar: 16.06387082394802\n",
      "Mínimo: 0.0\n",
      "Máximo: 995.0\n"
     ]
    }
   ],
   "source": [
    "#sacar la mediana, la media y otros datos estadisticos de los precios de los juegos\n",
    "print('Mediana:', df_unique_prices['price'].median())\n",
    "print('Media:', df_unique_prices['price'].mean())\n",
    "print('Desviación Estándar:', df_unique_prices['price'].std())\n",
    "print('Mínimo:', df_unique_prices['price'].min())\n",
    "print('Máximo:', df_unique_prices['price'].max())"
   ]
  },
  {
   "cell_type": "markdown",
   "metadata": {},
   "source": [
    "* Vemos que los precios de los juegos se mueven principalmente entre los 0 y 100 USD.\n",
    "\n",
    "* El precio medio (mediana) de los juegos es de: 4.99 dólares\n",
    "\n",
    "* El precio promedio (mean) de los juegos es de: 8.67 dólares\n",
    "\n",
    "* El precio maximo es de 995 dolares"
   ]
  },
  {
   "cell_type": "code",
   "execution_count": 20,
   "metadata": {},
   "outputs": [
    {
     "data": {
      "text/html": [
       "<div>\n",
       "<style scoped>\n",
       "    .dataframe tbody tr th:only-of-type {\n",
       "        vertical-align: middle;\n",
       "    }\n",
       "\n",
       "    .dataframe tbody tr th {\n",
       "        vertical-align: top;\n",
       "    }\n",
       "\n",
       "    .dataframe thead th {\n",
       "        text-align: right;\n",
       "    }\n",
       "</style>\n",
       "<table border=\"1\" class=\"dataframe\">\n",
       "  <thead>\n",
       "    <tr style=\"text-align: right;\">\n",
       "      <th></th>\n",
       "      <th>genres</th>\n",
       "      <th>price</th>\n",
       "      <th>early_access</th>\n",
       "      <th>id</th>\n",
       "      <th>release_year</th>\n",
       "      <th>publisher</th>\n",
       "      <th>app_name</th>\n",
       "      <th>title</th>\n",
       "      <th>developer</th>\n",
       "    </tr>\n",
       "  </thead>\n",
       "  <tbody>\n",
       "    <tr>\n",
       "      <th>5</th>\n",
       "      <td>Free to Play</td>\n",
       "      <td>0.0</td>\n",
       "      <td>False</td>\n",
       "      <td>643980</td>\n",
       "      <td>2018</td>\n",
       "      <td>Making Fun, Inc.</td>\n",
       "      <td>Ironbound</td>\n",
       "      <td>Ironbound</td>\n",
       "      <td>Secret Level SRL</td>\n",
       "    </tr>\n",
       "    <tr>\n",
       "      <th>6</th>\n",
       "      <td>Indie</td>\n",
       "      <td>0.0</td>\n",
       "      <td>False</td>\n",
       "      <td>643980</td>\n",
       "      <td>2018</td>\n",
       "      <td>Making Fun, Inc.</td>\n",
       "      <td>Ironbound</td>\n",
       "      <td>Ironbound</td>\n",
       "      <td>Secret Level SRL</td>\n",
       "    </tr>\n",
       "    <tr>\n",
       "      <th>7</th>\n",
       "      <td>RPG</td>\n",
       "      <td>0.0</td>\n",
       "      <td>False</td>\n",
       "      <td>643980</td>\n",
       "      <td>2018</td>\n",
       "      <td>Making Fun, Inc.</td>\n",
       "      <td>Ironbound</td>\n",
       "      <td>Ironbound</td>\n",
       "      <td>Secret Level SRL</td>\n",
       "    </tr>\n",
       "    <tr>\n",
       "      <th>8</th>\n",
       "      <td>Strategy</td>\n",
       "      <td>0.0</td>\n",
       "      <td>False</td>\n",
       "      <td>643980</td>\n",
       "      <td>2018</td>\n",
       "      <td>Making Fun, Inc.</td>\n",
       "      <td>Ironbound</td>\n",
       "      <td>Ironbound</td>\n",
       "      <td>Secret Level SRL</td>\n",
       "    </tr>\n",
       "    <tr>\n",
       "      <th>9</th>\n",
       "      <td>Casual</td>\n",
       "      <td>0.0</td>\n",
       "      <td>False</td>\n",
       "      <td>670290</td>\n",
       "      <td>2017</td>\n",
       "      <td>Poolians.com</td>\n",
       "      <td>Real Pool 3D - Poolians</td>\n",
       "      <td>Real Pool 3D - Poolians</td>\n",
       "      <td>Poolians.com</td>\n",
       "    </tr>\n",
       "    <tr>\n",
       "      <th>...</th>\n",
       "      <td>...</td>\n",
       "      <td>...</td>\n",
       "      <td>...</td>\n",
       "      <td>...</td>\n",
       "      <td>...</td>\n",
       "      <td>...</td>\n",
       "      <td>...</td>\n",
       "      <td>...</td>\n",
       "      <td>...</td>\n",
       "    </tr>\n",
       "    <tr>\n",
       "      <th>71019</th>\n",
       "      <td>Action</td>\n",
       "      <td>0.0</td>\n",
       "      <td>False</td>\n",
       "      <td>771810</td>\n",
       "      <td>2018</td>\n",
       "      <td>Retro Army Limited</td>\n",
       "      <td>The spy who shot me™</td>\n",
       "      <td>The spy who shot me™</td>\n",
       "      <td>Retro Army Limited</td>\n",
       "    </tr>\n",
       "    <tr>\n",
       "      <th>71020</th>\n",
       "      <td>Adventure</td>\n",
       "      <td>0.0</td>\n",
       "      <td>False</td>\n",
       "      <td>771810</td>\n",
       "      <td>2018</td>\n",
       "      <td>Retro Army Limited</td>\n",
       "      <td>The spy who shot me™</td>\n",
       "      <td>The spy who shot me™</td>\n",
       "      <td>Retro Army Limited</td>\n",
       "    </tr>\n",
       "    <tr>\n",
       "      <th>71021</th>\n",
       "      <td>Indie</td>\n",
       "      <td>0.0</td>\n",
       "      <td>False</td>\n",
       "      <td>771810</td>\n",
       "      <td>2018</td>\n",
       "      <td>Retro Army Limited</td>\n",
       "      <td>The spy who shot me™</td>\n",
       "      <td>The spy who shot me™</td>\n",
       "      <td>Retro Army Limited</td>\n",
       "    </tr>\n",
       "    <tr>\n",
       "      <th>71026</th>\n",
       "      <td>Casual</td>\n",
       "      <td>0.0</td>\n",
       "      <td>False</td>\n",
       "      <td>769330</td>\n",
       "      <td>2018</td>\n",
       "      <td>Riviysky</td>\n",
       "      <td>BAE 2</td>\n",
       "      <td>BAE 2</td>\n",
       "      <td>Riviysky</td>\n",
       "    </tr>\n",
       "    <tr>\n",
       "      <th>71027</th>\n",
       "      <td>Indie</td>\n",
       "      <td>0.0</td>\n",
       "      <td>False</td>\n",
       "      <td>769330</td>\n",
       "      <td>2018</td>\n",
       "      <td>Riviysky</td>\n",
       "      <td>BAE 2</td>\n",
       "      <td>BAE 2</td>\n",
       "      <td>Riviysky</td>\n",
       "    </tr>\n",
       "  </tbody>\n",
       "</table>\n",
       "<p>7205 rows × 9 columns</p>\n",
       "</div>"
      ],
      "text/plain": [
       "             genres  price  early_access      id  release_year  \\\n",
       "5      Free to Play    0.0         False  643980          2018   \n",
       "6             Indie    0.0         False  643980          2018   \n",
       "7               RPG    0.0         False  643980          2018   \n",
       "8          Strategy    0.0         False  643980          2018   \n",
       "9            Casual    0.0         False  670290          2017   \n",
       "...             ...    ...           ...     ...           ...   \n",
       "71019        Action    0.0         False  771810          2018   \n",
       "71020     Adventure    0.0         False  771810          2018   \n",
       "71021         Indie    0.0         False  771810          2018   \n",
       "71026        Casual    0.0         False  769330          2018   \n",
       "71027         Indie    0.0         False  769330          2018   \n",
       "\n",
       "                publisher                 app_name                    title  \\\n",
       "5        Making Fun, Inc.                Ironbound                Ironbound   \n",
       "6        Making Fun, Inc.                Ironbound                Ironbound   \n",
       "7        Making Fun, Inc.                Ironbound                Ironbound   \n",
       "8        Making Fun, Inc.                Ironbound                Ironbound   \n",
       "9            Poolians.com  Real Pool 3D - Poolians  Real Pool 3D - Poolians   \n",
       "...                   ...                      ...                      ...   \n",
       "71019  Retro Army Limited     The spy who shot me™     The spy who shot me™   \n",
       "71020  Retro Army Limited     The spy who shot me™     The spy who shot me™   \n",
       "71021  Retro Army Limited     The spy who shot me™     The spy who shot me™   \n",
       "71026            Riviysky                    BAE 2                    BAE 2   \n",
       "71027            Riviysky                    BAE 2                    BAE 2   \n",
       "\n",
       "                developer  \n",
       "5        Secret Level SRL  \n",
       "6        Secret Level SRL  \n",
       "7        Secret Level SRL  \n",
       "8        Secret Level SRL  \n",
       "9            Poolians.com  \n",
       "...                   ...  \n",
       "71019  Retro Army Limited  \n",
       "71020  Retro Army Limited  \n",
       "71021  Retro Army Limited  \n",
       "71026            Riviysky  \n",
       "71027            Riviysky  \n",
       "\n",
       "[7205 rows x 9 columns]"
      ]
     },
     "execution_count": 20,
     "metadata": {},
     "output_type": "execute_result"
    }
   ],
   "source": [
    "#obtengo cuantos juegos son gratis\n",
    "free_items = games[games['price'] == 0]\n",
    "free_items"
   ]
  },
  {
   "cell_type": "markdown",
   "metadata": {},
   "source": [
    "* Hay 7205 juego gratis (de 28842 que hay en la plataforma). Es decir Steam brinda un 25% de juegos gratis. "
   ]
  },
  {
   "cell_type": "markdown",
   "metadata": {},
   "source": [
    "### **EDA del dataset reviews**"
   ]
  },
  {
   "cell_type": "code",
   "execution_count": 21,
   "metadata": {},
   "outputs": [
    {
     "data": {
      "text/html": [
       "<div>\n",
       "<style scoped>\n",
       "    .dataframe tbody tr th:only-of-type {\n",
       "        vertical-align: middle;\n",
       "    }\n",
       "\n",
       "    .dataframe tbody tr th {\n",
       "        vertical-align: top;\n",
       "    }\n",
       "\n",
       "    .dataframe thead th {\n",
       "        text-align: right;\n",
       "    }\n",
       "</style>\n",
       "<table border=\"1\" class=\"dataframe\">\n",
       "  <thead>\n",
       "    <tr style=\"text-align: right;\">\n",
       "      <th></th>\n",
       "      <th>user_id</th>\n",
       "      <th>user_url</th>\n",
       "      <th>reviews_item_id</th>\n",
       "      <th>reviews_helpful</th>\n",
       "      <th>reviews_recommend</th>\n",
       "      <th>posted_year</th>\n",
       "      <th>sentiment_analysis</th>\n",
       "      <th>release_year</th>\n",
       "    </tr>\n",
       "  </thead>\n",
       "  <tbody>\n",
       "    <tr>\n",
       "      <th>0</th>\n",
       "      <td>76561197970982479</td>\n",
       "      <td>http://steamcommunity.com/profiles/76561197970...</td>\n",
       "      <td>1250</td>\n",
       "      <td>No ratings yet</td>\n",
       "      <td>True</td>\n",
       "      <td>2011</td>\n",
       "      <td>1</td>\n",
       "      <td>2009</td>\n",
       "    </tr>\n",
       "    <tr>\n",
       "      <th>1</th>\n",
       "      <td>evcentric</td>\n",
       "      <td>http://steamcommunity.com/id/evcentric</td>\n",
       "      <td>248820</td>\n",
       "      <td>No ratings yet</td>\n",
       "      <td>True</td>\n",
       "      <td>2011</td>\n",
       "      <td>2</td>\n",
       "      <td>2013</td>\n",
       "    </tr>\n",
       "    <tr>\n",
       "      <th>2</th>\n",
       "      <td>doctr</td>\n",
       "      <td>http://steamcommunity.com/id/doctr</td>\n",
       "      <td>250320</td>\n",
       "      <td>2 of 2 people (100%) found this review helpful</td>\n",
       "      <td>True</td>\n",
       "      <td>2013</td>\n",
       "      <td>2</td>\n",
       "      <td>2013</td>\n",
       "    </tr>\n",
       "    <tr>\n",
       "      <th>3</th>\n",
       "      <td>maplemage</td>\n",
       "      <td>http://steamcommunity.com/id/maplemage</td>\n",
       "      <td>211420</td>\n",
       "      <td>35 of 43 people (81%) found this review helpful</td>\n",
       "      <td>True</td>\n",
       "      <td>2014</td>\n",
       "      <td>1</td>\n",
       "      <td>2012</td>\n",
       "    </tr>\n",
       "    <tr>\n",
       "      <th>4</th>\n",
       "      <td>Wackky</td>\n",
       "      <td>http://steamcommunity.com/id/Wackky</td>\n",
       "      <td>249130</td>\n",
       "      <td>7 of 8 people (88%) found this review helpful</td>\n",
       "      <td>True</td>\n",
       "      <td>2014</td>\n",
       "      <td>0</td>\n",
       "      <td>2013</td>\n",
       "    </tr>\n",
       "  </tbody>\n",
       "</table>\n",
       "</div>"
      ],
      "text/plain": [
       "             user_id                                           user_url  \\\n",
       "0  76561197970982479  http://steamcommunity.com/profiles/76561197970...   \n",
       "1          evcentric             http://steamcommunity.com/id/evcentric   \n",
       "2              doctr                 http://steamcommunity.com/id/doctr   \n",
       "3          maplemage             http://steamcommunity.com/id/maplemage   \n",
       "4             Wackky                http://steamcommunity.com/id/Wackky   \n",
       "\n",
       "   reviews_item_id                                  reviews_helpful  \\\n",
       "0             1250                                   No ratings yet   \n",
       "1           248820                                   No ratings yet   \n",
       "2           250320   2 of 2 people (100%) found this review helpful   \n",
       "3           211420  35 of 43 people (81%) found this review helpful   \n",
       "4           249130    7 of 8 people (88%) found this review helpful   \n",
       "\n",
       "   reviews_recommend  posted_year  sentiment_analysis  release_year  \n",
       "0               True         2011                   1          2009  \n",
       "1               True         2011                   2          2013  \n",
       "2               True         2013                   2          2013  \n",
       "3               True         2014                   1          2012  \n",
       "4               True         2014                   0          2013  "
      ]
     },
     "execution_count": 21,
     "metadata": {},
     "output_type": "execute_result"
    }
   ],
   "source": [
    "reviews = pd.read_parquet(\"data_clean/2-reviews.parquet\") # Lectura del dataset\n",
    "reviews.head()"
   ]
  },
  {
   "cell_type": "code",
   "execution_count": 22,
   "metadata": {},
   "outputs": [
    {
     "name": "stdout",
     "output_type": "stream",
     "text": [
      "<class 'pandas.core.frame.DataFrame'>\n",
      "RangeIndex: 48690 entries, 0 to 48689\n",
      "Data columns (total 8 columns):\n",
      " #   Column              Non-Null Count  Dtype \n",
      "---  ------              --------------  ----- \n",
      " 0   user_id             48690 non-null  object\n",
      " 1   user_url            48690 non-null  object\n",
      " 2   reviews_item_id     48690 non-null  int64 \n",
      " 3   reviews_helpful     48690 non-null  object\n",
      " 4   reviews_recommend   48690 non-null  bool  \n",
      " 5   posted_year         48690 non-null  int64 \n",
      " 6   sentiment_analysis  48690 non-null  int64 \n",
      " 7   release_year        48690 non-null  int64 \n",
      "dtypes: bool(1), int64(4), object(3)\n",
      "memory usage: 2.6+ MB\n"
     ]
    }
   ],
   "source": [
    "reviews.info()"
   ]
  },
  {
   "cell_type": "code",
   "execution_count": 23,
   "metadata": {},
   "outputs": [
    {
     "data": {
      "text/plain": [
       "user_id               0\n",
       "user_url              0\n",
       "reviews_item_id       0\n",
       "reviews_helpful       0\n",
       "reviews_recommend     0\n",
       "posted_year           0\n",
       "sentiment_analysis    0\n",
       "release_year          0\n",
       "dtype: int64"
      ]
     },
     "execution_count": 23,
     "metadata": {},
     "output_type": "execute_result"
    }
   ],
   "source": [
    "#verificamos cantidad de nulos por columna\n",
    "reviews.isnull().sum()"
   ]
  },
  {
   "cell_type": "markdown",
   "metadata": {},
   "source": [
    "Analizamos los distintos atributos "
   ]
  },
  {
   "cell_type": "markdown",
   "metadata": {},
   "source": [
    "**Atributo 'user_id'**"
   ]
  },
  {
   "cell_type": "code",
   "execution_count": 24,
   "metadata": {},
   "outputs": [
    {
     "name": "stdout",
     "output_type": "stream",
     "text": [
      "Steam posee la cantidad de 22936 usuarios únicos en su plataforma\n"
     ]
    }
   ],
   "source": [
    "#contamos cuantos usuarios unicos hay en el dataset\n",
    "total_users = len(reviews[\"user_id\"].unique())\n",
    "print(f\"Steam posee la cantidad de {total_users} usuarios únicos en su plataforma\")"
   ]
  },
  {
   "cell_type": "code",
   "execution_count": 25,
   "metadata": {},
   "outputs": [
    {
     "data": {
      "text/plain": [
       "reviews_recommend\n",
       "True     43537\n",
       "False     5153\n",
       "Name: count, dtype: int64"
      ]
     },
     "execution_count": 25,
     "metadata": {},
     "output_type": "execute_result"
    }
   ],
   "source": [
    "# realizamos el conteo de cuanta gente SI recomienda y cuanta NO recomienda los juegos\n",
    "sentiment_class= reviews[\"reviews_recommend\"].value_counts()\n",
    "sentiment_class"
   ]
  },
  {
   "cell_type": "markdown",
   "metadata": {},
   "source": [
    "* Un 12% (5153) de los usuarios no recomiendan el juego que consumen. El 88% recomienda o es neutral"
   ]
  },
  {
   "cell_type": "markdown",
   "metadata": {},
   "source": [
    "**Atributo 'sentiment_analysis'**"
   ]
  },
  {
   "cell_type": "code",
   "execution_count": 26,
   "metadata": {},
   "outputs": [
    {
     "data": {
      "text/plain": [
       "sentiment_analysis\n",
       "1    29886\n",
       "2    14629\n",
       "0     4175\n",
       "Name: count, dtype: int64"
      ]
     },
     "execution_count": 26,
     "metadata": {},
     "output_type": "execute_result"
    }
   ],
   "source": [
    "# contamos cuantas reviews positivas, netrales y negativas hay en el dataset.\n",
    "sentiment_class= reviews[\"sentiment_analysis\"].value_counts()\n",
    "sentiment_class"
   ]
  },
  {
   "cell_type": "code",
   "execution_count": 27,
   "metadata": {},
   "outputs": [
    {
     "data": {
      "text/plain": [
       "sentiment_analysis\n",
       "1    61.380160\n",
       "2    30.045184\n",
       "0     8.574656\n",
       "Name: count, dtype: float64"
      ]
     },
     "execution_count": 27,
     "metadata": {},
     "output_type": "execute_result"
    }
   ],
   "source": [
    "# contamos cuantas reviews positivas, netrales y negativas hay en el dataset.\n",
    "sentiment_class= reviews[\"sentiment_analysis\"].value_counts()\n",
    "porcentaje = sentiment_class / sentiment_class.sum() * 100\n",
    "porcentaje"
   ]
  },
  {
   "cell_type": "markdown",
   "metadata": {},
   "source": [
    "\n",
    "* Reviews con sentimiento neutral = 61%\n",
    "\n",
    "* Reviews con sentimiento positivo = 30%\n",
    "\n",
    "* Reviews con sentimiento negativo = 9%"
   ]
  },
  {
   "cell_type": "code",
   "execution_count": 28,
   "metadata": {},
   "outputs": [
    {
     "data": {
      "image/png": "[encoded data removed]",
      "text/plain": [
       "<Figure size 800x500 with 1 Axes>"
      ]
     },
     "metadata": {},
     "output_type": "display_data"
    }
   ],
   "source": [
    "plt.figure(figsize=(8, 5))\n",
    "ax = sns.countplot(data=reviews, x='sentiment_analysis', order=reviews['sentiment_analysis'].value_counts().index, palette='Set3')\n",
    "ax.set_title('Sentimiento de los Usuarios en Steam', fontsize=14)\n",
    "ax.set_xlabel('Sentimiento', fontsize=14)\n",
    "ax.set_ylabel('Número de Usuarios', fontsize=14)\n",
    "\n",
    "total = len(reviews)  # Obtener el total de usuarios\n",
    "\n",
    "for p in ax.patches:\n",
    "    height = p.get_height()\n",
    "    ax.annotate(f'{height} ({height/total*100:.2f}%)', (p.get_x() + p.get_width() / 2, height), ha='center', va='bottom')\n",
    "\n",
    "plt.show()"
   ]
  },
  {
   "cell_type": "markdown",
   "metadata": {},
   "source": [
    "**Atributo 'posted_year'**"
   ]
  },
  {
   "cell_type": "code",
   "execution_count": 29,
   "metadata": {},
   "outputs": [
    {
     "data": {
      "text/plain": [
       "(48690, 8)"
      ]
     },
     "execution_count": 29,
     "metadata": {},
     "output_type": "execute_result"
    }
   ],
   "source": [
    "reviews.shape"
   ]
  },
  {
   "cell_type": "code",
   "execution_count": 30,
   "metadata": {},
   "outputs": [
    {
     "data": {
      "text/plain": [
       "count    48690.000000\n",
       "mean      2013.927973\n",
       "std          1.105259\n",
       "min       2010.000000\n",
       "25%       2013.000000\n",
       "50%       2014.000000\n",
       "75%       2015.000000\n",
       "max       2015.000000\n",
       "Name: posted_year, dtype: float64"
      ]
     },
     "execution_count": 30,
     "metadata": {},
     "output_type": "execute_result"
    }
   ],
   "source": [
    "posted_date =reviews[\"posted_year\"].describe()\n",
    "posted_date"
   ]
  },
  {
   "cell_type": "markdown",
   "metadata": {},
   "source": [
    "* La media de posted year es 2013"
   ]
  },
  {
   "cell_type": "code",
   "execution_count": 31,
   "metadata": {},
   "outputs": [
    {
     "data": {
      "image/png": "[encoded data removed]",
      "text/plain": [
       "<Figure size 1200x500 with 1 Axes>"
      ]
     },
     "metadata": {},
     "output_type": "display_data"
    }
   ],
   "source": [
    "#Grafico de barras que muestra la cantidad de posteos por año desde 2010 a 2015 \n",
    "#el eje X es el año y el eje Y es la cantidad de posteos \n",
    "plt.figure(figsize=(12, 5))\n",
    "ax = sns.countplot(data=reviews, x='posted_year', palette='Set3')\n",
    "ax.set_title('Year post distribution', fontsize=14)\n",
    "ax.set_xlabel('Year', fontsize=14)\n",
    "ax.set_ylabel('Posts count', fontsize=14)\n",
    "\n",
    "# Agrego el número de posteos encima de cada columna\n",
    "for p in ax.patches:\n",
    "    ax.annotate(f\"{p.get_height()}\", (p.get_x() + p.get_width() / 2, p.get_height()), ha='center', va='bottom')\n",
    "\n",
    "plt.show()"
   ]
  },
  {
   "cell_type": "markdown",
   "metadata": {},
   "source": [
    "* La cantidad total de posteos en la plataforma hasta el año informado es de 48690.\n",
    "* El año con más posts fue 2014 con 19593"
   ]
  },
  {
   "cell_type": "markdown",
   "metadata": {},
   "source": [
    "### EDA del df items"
   ]
  },
  {
   "cell_type": "code",
   "execution_count": 32,
   "metadata": {},
   "outputs": [
    {
     "data": {
      "text/html": [
       "<div>\n",
       "<style scoped>\n",
       "    .dataframe tbody tr th:only-of-type {\n",
       "        vertical-align: middle;\n",
       "    }\n",
       "\n",
       "    .dataframe tbody tr th {\n",
       "        vertical-align: top;\n",
       "    }\n",
       "\n",
       "    .dataframe thead th {\n",
       "        text-align: right;\n",
       "    }\n",
       "</style>\n",
       "<table border=\"1\" class=\"dataframe\">\n",
       "  <thead>\n",
       "    <tr style=\"text-align: right;\">\n",
       "      <th></th>\n",
       "      <th>item_id</th>\n",
       "      <th>item_name</th>\n",
       "      <th>playtime_forever</th>\n",
       "      <th>steam_id</th>\n",
       "      <th>items_count</th>\n",
       "      <th>user_id</th>\n",
       "    </tr>\n",
       "  </thead>\n",
       "  <tbody>\n",
       "    <tr>\n",
       "      <th>0</th>\n",
       "      <td>10</td>\n",
       "      <td>Counter-Strike</td>\n",
       "      <td>0.10</td>\n",
       "      <td>76561197970982479</td>\n",
       "      <td>277</td>\n",
       "      <td>76561197970982479</td>\n",
       "    </tr>\n",
       "    <tr>\n",
       "      <th>1</th>\n",
       "      <td>30</td>\n",
       "      <td>Day of Defeat</td>\n",
       "      <td>0.12</td>\n",
       "      <td>76561197970982479</td>\n",
       "      <td>277</td>\n",
       "      <td>76561197970982479</td>\n",
       "    </tr>\n",
       "    <tr>\n",
       "      <th>2</th>\n",
       "      <td>300</td>\n",
       "      <td>Day of Defeat: Source</td>\n",
       "      <td>78.88</td>\n",
       "      <td>76561197970982479</td>\n",
       "      <td>277</td>\n",
       "      <td>76561197970982479</td>\n",
       "    </tr>\n",
       "    <tr>\n",
       "      <th>3</th>\n",
       "      <td>240</td>\n",
       "      <td>Counter-Strike: Source</td>\n",
       "      <td>30.88</td>\n",
       "      <td>76561197970982479</td>\n",
       "      <td>277</td>\n",
       "      <td>76561197970982479</td>\n",
       "    </tr>\n",
       "    <tr>\n",
       "      <th>4</th>\n",
       "      <td>3830</td>\n",
       "      <td>Psychonauts</td>\n",
       "      <td>5.55</td>\n",
       "      <td>76561197970982479</td>\n",
       "      <td>277</td>\n",
       "      <td>76561197970982479</td>\n",
       "    </tr>\n",
       "  </tbody>\n",
       "</table>\n",
       "</div>"
      ],
      "text/plain": [
       "   item_id               item_name  playtime_forever           steam_id  \\\n",
       "0       10          Counter-Strike              0.10  76561197970982479   \n",
       "1       30           Day of Defeat              0.12  76561197970982479   \n",
       "2      300   Day of Defeat: Source             78.88  76561197970982479   \n",
       "3      240  Counter-Strike: Source             30.88  76561197970982479   \n",
       "4     3830             Psychonauts              5.55  76561197970982479   \n",
       "\n",
       "   items_count            user_id  \n",
       "0          277  76561197970982479  \n",
       "1          277  76561197970982479  \n",
       "2          277  76561197970982479  \n",
       "3          277  76561197970982479  \n",
       "4          277  76561197970982479  "
      ]
     },
     "execution_count": 32,
     "metadata": {},
     "output_type": "execute_result"
    }
   ],
   "source": [
    "items = pd.read_parquet(\"data_clean/3-items.parquet\")\n",
    "items.head()"
   ]
  },
  {
   "cell_type": "code",
   "execution_count": 137,
   "metadata": {},
   "outputs": [
    {
     "name": "stdout",
     "output_type": "stream",
     "text": [
      "<class 'pandas.core.frame.DataFrame'>\n",
      "RangeIndex: 3246362 entries, 0 to 3246361\n",
      "Data columns (total 6 columns):\n",
      " #   Column            Dtype  \n",
      "---  ------            -----  \n",
      " 0   item_id           int64  \n",
      " 1   item_name         object \n",
      " 2   playtime_forever  float64\n",
      " 3   steam_id          int64  \n",
      " 4   items_count       int64  \n",
      " 5   user_id           object \n",
      "dtypes: float64(1), int64(3), object(2)\n",
      "memory usage: 148.6+ MB\n"
     ]
    },
    {
     "data": {
      "text/plain": [
       "(3246362, 6)"
      ]
     },
     "execution_count": 137,
     "metadata": {},
     "output_type": "execute_result"
    }
   ],
   "source": [
    "items.info()\n",
    "items.shape"
   ]
  },
  {
   "cell_type": "code",
   "execution_count": 138,
   "metadata": {},
   "outputs": [
    {
     "data": {
      "text/plain": [
       "item_id             0\n",
       "item_name           0\n",
       "playtime_forever    0\n",
       "steam_id            0\n",
       "items_count         0\n",
       "user_id             0\n",
       "dtype: int64"
      ]
     },
     "execution_count": 138,
     "metadata": {},
     "output_type": "execute_result"
    }
   ],
   "source": [
    "items.isnull().sum() # Existencia de nulos"
   ]
  },
  {
   "cell_type": "markdown",
   "metadata": {},
   "source": [
    "**Atributo 'items_count': cantidad de items que consume un usuario**\n"
   ]
  },
  {
   "cell_type": "code",
   "execution_count": 34,
   "metadata": {},
   "outputs": [
    {
     "data": {
      "text/html": [
       "<div>\n",
       "<style scoped>\n",
       "    .dataframe tbody tr th:only-of-type {\n",
       "        vertical-align: middle;\n",
       "    }\n",
       "\n",
       "    .dataframe tbody tr th {\n",
       "        vertical-align: top;\n",
       "    }\n",
       "\n",
       "    .dataframe thead th {\n",
       "        text-align: right;\n",
       "    }\n",
       "</style>\n",
       "<table border=\"1\" class=\"dataframe\">\n",
       "  <thead>\n",
       "    <tr style=\"text-align: right;\">\n",
       "      <th></th>\n",
       "      <th>items_count</th>\n",
       "    </tr>\n",
       "    <tr>\n",
       "      <th>user_id</th>\n",
       "      <th></th>\n",
       "    </tr>\n",
       "  </thead>\n",
       "  <tbody>\n",
       "    <tr>\n",
       "      <th>phrostb</th>\n",
       "      <td>7762</td>\n",
       "    </tr>\n",
       "    <tr>\n",
       "      <th>thugnificent</th>\n",
       "      <td>6700</td>\n",
       "    </tr>\n",
       "    <tr>\n",
       "      <th>chidvd</th>\n",
       "      <td>6410</td>\n",
       "    </tr>\n",
       "    <tr>\n",
       "      <th>piepai</th>\n",
       "      <td>6132</td>\n",
       "    </tr>\n",
       "    <tr>\n",
       "      <th>mayshowganmore</th>\n",
       "      <td>5027</td>\n",
       "    </tr>\n",
       "  </tbody>\n",
       "</table>\n",
       "</div>"
      ],
      "text/plain": [
       "               items_count\n",
       "user_id                   \n",
       "phrostb               7762\n",
       "thugnificent          6700\n",
       "chidvd                6410\n",
       "piepai                6132\n",
       "mayshowganmore        5027"
      ]
     },
     "execution_count": 34,
     "metadata": {},
     "output_type": "execute_result"
    }
   ],
   "source": [
    "# obtenemos la cantidad de juegos que tiene cada usuario\n",
    "items_count = items.groupby('user_id')['items_count'].unique().explode()  \n",
    "items_count= pd.DataFrame(items_count) #convertimos a dataframe\n",
    "items_count_user = items_count.sort_values('items_count', ascending=False) # ordenamos de mayor a menor\n",
    "items_count_user.head()\n",
    "\n",
    "#obtengo un df que tiene la cantidad de juegos que tiene cada usuario"
   ]
  },
  {
   "cell_type": "code",
   "execution_count": 42,
   "metadata": {},
   "outputs": [
    {
     "data": {
      "image/png": "[encoded data removed]",
      "text/plain": [
       "<Figure size 1200x500 with 1 Axes>"
      ]
     },
     "metadata": {},
     "output_type": "display_data"
    }
   ],
   "source": [
    "#histograma de la cantidad de items conumida por usuario\n",
    "plt.figure(figsize=(12, 5))\n",
    "sns.histplot(items_count_user['items_count'], bins=50, color='skyblue')\n",
    "plt.xlim(0, 1500)\n",
    "plt.xticks(range(0, 1500, 100))\n",
    "plt.xlabel('Items count') ; plt.ylabel('Users count') ; plt.title('Items by user distribution')\n",
    "plt.show()\n"
   ]
  },
  {
   "cell_type": "code",
   "execution_count": 141,
   "metadata": {},
   "outputs": [
    {
     "data": {
      "image/png": "[encoded data removed]",
      "text/plain": [
       "<Figure size 1200x600 with 1 Axes>"
      ]
     },
     "metadata": {},
     "output_type": "display_data"
    }
   ],
   "source": [
    "# Creamos un un Stripplot para visualizar la distribución de la cantidad de items por usuario\n",
    "sns.set_theme(style=\"whitegrid\", palette=\"pastel\")\n",
    "\n",
    "fig, ax = plt.subplots(figsize=(12, 6))\n",
    "\n",
    "# Stripplot\n",
    "sns.stripplot(data=items_count_user, x='items_count', ax=ax, color=\"orange\", jitter=0.2, alpha=0.7)\n",
    "ax.set_xlabel('Items Count')\n",
    "ax.set_ylabel('Frequency')\n",
    "ax.set_title('Items by User Distribution')\n",
    "\n",
    "plt.tight_layout()\n",
    "plt.show()"
   ]
  },
  {
   "cell_type": "code",
   "execution_count": 49,
   "metadata": {},
   "outputs": [
    {
     "data": {
      "text/plain": [
       "count    68403.000000\n",
       "mean        74.407161\n",
       "std        134.075659\n",
       "min          1.000000\n",
       "25%         16.000000\n",
       "50%         42.000000\n",
       "75%         90.000000\n",
       "max       7762.000000\n",
       "Name: items_count, dtype: float64"
      ]
     },
     "execution_count": 49,
     "metadata": {},
     "output_type": "execute_result"
    }
   ],
   "source": [
    "items_count_user['items_count'].astype(float).describe()"
   ]
  },
  {
   "cell_type": "markdown",
   "metadata": {},
   "source": [
    "* La media de juegos consumidos es 74 \n",
    "* La cantidad total artículos items consumidos es de 68403.\n",
    "* El user_id con más cantidad de artículos consumidos es phrostb con 7762"
   ]
  },
  {
   "cell_type": "markdown",
   "metadata": {},
   "source": [
    "**Atributo playtime_forever: tiempo en horas acumulados que un usuario ha jugado.**"
   ]
  },
  {
   "cell_type": "code",
   "execution_count": 143,
   "metadata": {},
   "outputs": [
    {
     "data": {
      "text/html": [
       "<div>\n",
       "<style scoped>\n",
       "    .dataframe tbody tr th:only-of-type {\n",
       "        vertical-align: middle;\n",
       "    }\n",
       "\n",
       "    .dataframe tbody tr th {\n",
       "        vertical-align: top;\n",
       "    }\n",
       "\n",
       "    .dataframe thead th {\n",
       "        text-align: right;\n",
       "    }\n",
       "</style>\n",
       "<table border=\"1\" class=\"dataframe\">\n",
       "  <thead>\n",
       "    <tr style=\"text-align: right;\">\n",
       "      <th></th>\n",
       "      <th>playtime_forever</th>\n",
       "    </tr>\n",
       "    <tr>\n",
       "      <th>user_id</th>\n",
       "      <th></th>\n",
       "    </tr>\n",
       "  </thead>\n",
       "  <tbody>\n",
       "    <tr>\n",
       "      <th>wolop</th>\n",
       "      <td>10712.88</td>\n",
       "    </tr>\n",
       "    <tr>\n",
       "      <th>Evilutional</th>\n",
       "      <td>10588.25</td>\n",
       "    </tr>\n",
       "    <tr>\n",
       "      <th>76561198019826668</th>\n",
       "      <td>10540.87</td>\n",
       "    </tr>\n",
       "    <tr>\n",
       "      <th>76561198039832932</th>\n",
       "      <td>10223.52</td>\n",
       "    </tr>\n",
       "    <tr>\n",
       "      <th>tsunamitad</th>\n",
       "      <td>10001.13</td>\n",
       "    </tr>\n",
       "  </tbody>\n",
       "</table>\n",
       "</div>"
      ],
      "text/plain": [
       "                  playtime_forever\n",
       "user_id                           \n",
       "wolop                     10712.88\n",
       "Evilutional               10588.25\n",
       "76561198019826668         10540.87\n",
       "76561198039832932         10223.52\n",
       "tsunamitad                10001.13"
      ]
     },
     "execution_count": 143,
     "metadata": {},
     "output_type": "execute_result"
    }
   ],
   "source": [
    "#Top 5 de usuarios con mayor número de horas de juego\n",
    "time_played = items.groupby('user_id')['playtime_forever'].unique().explode()  # Obtenemos el tiempo de juego por usuari\n",
    "time_played = pd.DataFrame(time_played)  # Convertimos a DataFrame\n",
    "time_played['playtime_forever'] = time_played['playtime_forever'] # Convertimos a entero\n",
    "user_time_played = time_played.sort_values('playtime_forever', ascending=False)  # Ordenamos de mayor a menor\n",
    "user_time_played.head(5)\n"
   ]
  },
  {
   "cell_type": "code",
   "execution_count": 145,
   "metadata": {},
   "outputs": [
    {
     "data": {
      "text/html": [
       "<div>\n",
       "<style scoped>\n",
       "    .dataframe tbody tr th:only-of-type {\n",
       "        vertical-align: middle;\n",
       "    }\n",
       "\n",
       "    .dataframe tbody tr th {\n",
       "        vertical-align: top;\n",
       "    }\n",
       "\n",
       "    .dataframe thead th {\n",
       "        text-align: right;\n",
       "    }\n",
       "</style>\n",
       "<table border=\"1\" class=\"dataframe\">\n",
       "  <thead>\n",
       "    <tr style=\"text-align: right;\">\n",
       "      <th></th>\n",
       "      <th>playtime_forever</th>\n",
       "    </tr>\n",
       "    <tr>\n",
       "      <th>user_id</th>\n",
       "      <th></th>\n",
       "    </tr>\n",
       "  </thead>\n",
       "  <tbody>\n",
       "    <tr>\n",
       "      <th>wolop</th>\n",
       "      <td>10712.88</td>\n",
       "    </tr>\n",
       "    <tr>\n",
       "      <th>Evilutional</th>\n",
       "      <td>10588.25</td>\n",
       "    </tr>\n",
       "    <tr>\n",
       "      <th>76561198019826668</th>\n",
       "      <td>10540.87</td>\n",
       "    </tr>\n",
       "    <tr>\n",
       "      <th>76561198039832932</th>\n",
       "      <td>10223.52</td>\n",
       "    </tr>\n",
       "    <tr>\n",
       "      <th>tsunamitad</th>\n",
       "      <td>10001.13</td>\n",
       "    </tr>\n",
       "    <tr>\n",
       "      <th>...</th>\n",
       "      <td>...</td>\n",
       "    </tr>\n",
       "    <tr>\n",
       "      <th>76561198078062945</th>\n",
       "      <td>0.02</td>\n",
       "    </tr>\n",
       "    <tr>\n",
       "      <th>76561198101995099</th>\n",
       "      <td>0.02</td>\n",
       "    </tr>\n",
       "    <tr>\n",
       "      <th>76561198066935199</th>\n",
       "      <td>0.02</td>\n",
       "    </tr>\n",
       "    <tr>\n",
       "      <th>76561198051717662</th>\n",
       "      <td>0.02</td>\n",
       "    </tr>\n",
       "    <tr>\n",
       "      <th>76561197972059969</th>\n",
       "      <td>0.02</td>\n",
       "    </tr>\n",
       "  </tbody>\n",
       "</table>\n",
       "<p>2823404 rows × 1 columns</p>\n",
       "</div>"
      ],
      "text/plain": [
       "                  playtime_forever\n",
       "user_id                           \n",
       "wolop                     10712.88\n",
       "Evilutional               10588.25\n",
       "76561198019826668         10540.87\n",
       "76561198039832932         10223.52\n",
       "tsunamitad                10001.13\n",
       "...                            ...\n",
       "76561198078062945             0.02\n",
       "76561198101995099             0.02\n",
       "76561198066935199             0.02\n",
       "76561198051717662             0.02\n",
       "76561197972059969             0.02\n",
       "\n",
       "[2823404 rows x 1 columns]"
      ]
     },
     "execution_count": 145,
     "metadata": {},
     "output_type": "execute_result"
    }
   ],
   "source": [
    "user_time_played"
   ]
  },
  {
   "cell_type": "code",
   "execution_count": 146,
   "metadata": {},
   "outputs": [
    {
     "data": {
      "text/plain": [
       "29.583710474921627"
      ]
     },
     "execution_count": 146,
     "metadata": {},
     "output_type": "execute_result"
    }
   ],
   "source": [
    "#obtengo la media de tiempo jugado por usuario\n",
    "user_time_played_media = user_time_played['playtime_forever'].mean()\n",
    "user_time_played_media"
   ]
  },
  {
   "cell_type": "code",
   "execution_count": 148,
   "metadata": {},
   "outputs": [
    {
     "data": {
      "text/plain": [
       "10712.88"
      ]
     },
     "execution_count": 148,
     "metadata": {},
     "output_type": "execute_result"
    }
   ],
   "source": [
    "#obtengo el usuario que mas horas jugo\n",
    "user_time_played_max = user_time_played['playtime_forever'].max()\n",
    "user_time_played_max"
   ]
  },
  {
   "cell_type": "markdown",
   "metadata": {},
   "source": [
    "* El user_id con más cantidad de tiempo consumido en juegos Steam es wolop con 10712 horas\n",
    "* El tiempo promedio (mean) de juego por usuario es de: 29.5 horas\n"
   ]
  },
  {
   "cell_type": "markdown",
   "metadata": {},
   "source": [
    "### Creamos el dataframe que servira para la consulta del sistema de recomendacion\n",
    "El objetivo es obtener un dataframe reducido para poder hacer el analisis para el sistema de recomendacion, con la aplicacion de *similitud del coseno*, de forma mas optimizada"
   ]
  },
  {
   "cell_type": "code",
   "execution_count": 38,
   "metadata": {},
   "outputs": [],
   "source": [
    "reviews = pd.read_parquet(\"data_clean/2-reviews.parquet\")\n",
    "items = pd.read_parquet('data_clean/3-items.parquet')"
   ]
  },
  {
   "cell_type": "code",
   "execution_count": 39,
   "metadata": {},
   "outputs": [
    {
     "data": {
      "text/html": [
       "<div>\n",
       "<style scoped>\n",
       "    .dataframe tbody tr th:only-of-type {\n",
       "        vertical-align: middle;\n",
       "    }\n",
       "\n",
       "    .dataframe tbody tr th {\n",
       "        vertical-align: top;\n",
       "    }\n",
       "\n",
       "    .dataframe thead th {\n",
       "        text-align: right;\n",
       "    }\n",
       "</style>\n",
       "<table border=\"1\" class=\"dataframe\">\n",
       "  <thead>\n",
       "    <tr style=\"text-align: right;\">\n",
       "      <th></th>\n",
       "      <th>user_id</th>\n",
       "      <th>user_url</th>\n",
       "      <th>reviews_item_id</th>\n",
       "      <th>reviews_helpful</th>\n",
       "      <th>reviews_recommend</th>\n",
       "      <th>posted_year</th>\n",
       "      <th>sentiment_analysis</th>\n",
       "      <th>release_year</th>\n",
       "    </tr>\n",
       "  </thead>\n",
       "  <tbody>\n",
       "    <tr>\n",
       "      <th>0</th>\n",
       "      <td>76561197970982479</td>\n",
       "      <td>http://steamcommunity.com/profiles/76561197970...</td>\n",
       "      <td>1250</td>\n",
       "      <td>No ratings yet</td>\n",
       "      <td>True</td>\n",
       "      <td>2011</td>\n",
       "      <td>1</td>\n",
       "      <td>2009</td>\n",
       "    </tr>\n",
       "    <tr>\n",
       "      <th>1</th>\n",
       "      <td>evcentric</td>\n",
       "      <td>http://steamcommunity.com/id/evcentric</td>\n",
       "      <td>248820</td>\n",
       "      <td>No ratings yet</td>\n",
       "      <td>True</td>\n",
       "      <td>2011</td>\n",
       "      <td>2</td>\n",
       "      <td>2013</td>\n",
       "    </tr>\n",
       "    <tr>\n",
       "      <th>2</th>\n",
       "      <td>doctr</td>\n",
       "      <td>http://steamcommunity.com/id/doctr</td>\n",
       "      <td>250320</td>\n",
       "      <td>2 of 2 people (100%) found this review helpful</td>\n",
       "      <td>True</td>\n",
       "      <td>2013</td>\n",
       "      <td>2</td>\n",
       "      <td>2013</td>\n",
       "    </tr>\n",
       "    <tr>\n",
       "      <th>3</th>\n",
       "      <td>maplemage</td>\n",
       "      <td>http://steamcommunity.com/id/maplemage</td>\n",
       "      <td>211420</td>\n",
       "      <td>35 of 43 people (81%) found this review helpful</td>\n",
       "      <td>True</td>\n",
       "      <td>2014</td>\n",
       "      <td>1</td>\n",
       "      <td>2012</td>\n",
       "    </tr>\n",
       "    <tr>\n",
       "      <th>4</th>\n",
       "      <td>Wackky</td>\n",
       "      <td>http://steamcommunity.com/id/Wackky</td>\n",
       "      <td>249130</td>\n",
       "      <td>7 of 8 people (88%) found this review helpful</td>\n",
       "      <td>True</td>\n",
       "      <td>2014</td>\n",
       "      <td>0</td>\n",
       "      <td>2013</td>\n",
       "    </tr>\n",
       "  </tbody>\n",
       "</table>\n",
       "</div>"
      ],
      "text/plain": [
       "             user_id                                           user_url  \\\n",
       "0  76561197970982479  http://steamcommunity.com/profiles/76561197970...   \n",
       "1          evcentric             http://steamcommunity.com/id/evcentric   \n",
       "2              doctr                 http://steamcommunity.com/id/doctr   \n",
       "3          maplemage             http://steamcommunity.com/id/maplemage   \n",
       "4             Wackky                http://steamcommunity.com/id/Wackky   \n",
       "\n",
       "   reviews_item_id                                  reviews_helpful  \\\n",
       "0             1250                                   No ratings yet   \n",
       "1           248820                                   No ratings yet   \n",
       "2           250320   2 of 2 people (100%) found this review helpful   \n",
       "3           211420  35 of 43 people (81%) found this review helpful   \n",
       "4           249130    7 of 8 people (88%) found this review helpful   \n",
       "\n",
       "   reviews_recommend  posted_year  sentiment_analysis  release_year  \n",
       "0               True         2011                   1          2009  \n",
       "1               True         2011                   2          2013  \n",
       "2               True         2013                   2          2013  \n",
       "3               True         2014                   1          2012  \n",
       "4               True         2014                   0          2013  "
      ]
     },
     "execution_count": 39,
     "metadata": {},
     "output_type": "execute_result"
    }
   ],
   "source": [
    "reviews.head()"
   ]
  },
  {
   "cell_type": "code",
   "execution_count": 40,
   "metadata": {},
   "outputs": [
    {
     "name": "stdout",
     "output_type": "stream",
     "text": [
      "       reviews_recommend  sentiment_analysis\n",
      "94                 False                   2\n",
      "264                False                   2\n",
      "494                False                   2\n",
      "738                False                   2\n",
      "794                False                   2\n",
      "...                  ...                 ...\n",
      "47985              False                   2\n",
      "48081              False                   2\n",
      "48314              False                   2\n",
      "48348              False                   2\n",
      "48541              False                   2\n",
      "\n",
      "[448 rows x 2 columns]\n"
     ]
    }
   ],
   "source": [
    "# Vemos que hay reviews_recomend=FALSE y sentiment_analysis=2, no hace sentido.\n",
    "# Vamos a crear un ranking ambas columnas: sentiment_analysis y reviews_recommend.\n",
    "# Combinar ambas variables para generar una nueva columna rating \n",
    "filtered_reviews = reviews[(reviews['reviews_recommend'] == False) & (reviews['sentiment_analysis'] == 2)][['reviews_recommend', 'sentiment_analysis']]\n",
    "print(filtered_reviews)"
   ]
  },
  {
   "cell_type": "markdown",
   "metadata": {},
   "source": [
    "Se considera la siguiente escala en función de la combinación de las dos variables de esta manera:\n",
    "* sentiment_analysis = 0 & recommend = True or False --> ranking = 1 \n",
    "* sentiment_analysis = 1 & recommend = False         --> ranking = 2 \n",
    "* sentiment_analysis = 1 & recommend = True          --> ranking = 3 \n",
    "* sentiment_analysis = 2 & recommend = False         --> ranking = 4 \n",
    "* sentiment_analysis = 2 & recommend = True          --> ranking = 5 "
   ]
  },
  {
   "cell_type": "code",
   "execution_count": 41,
   "metadata": {},
   "outputs": [],
   "source": [
    "# Se crea una funcion que calcula una calificación basada en el análisis de sentimientos \n",
    "# y la recomendación de review de juegos realizado por los usuarios.\n",
    "def calculate_ranking(row):\n",
    "    sentiment = row['sentiment_analysis']\n",
    "    recommend = row['reviews_recommend']\n",
    "    \n",
    "    if sentiment == 0 and recommend or not recommend:\n",
    "        return 1\n",
    "    elif sentiment == 1 and not recommend:\n",
    "        return 2\n",
    "    elif sentiment == 1 and recommend:\n",
    "        return 3\n",
    "    elif sentiment == 2 and not recommend:\n",
    "        return 4\n",
    "    elif sentiment == 2 and recommend:\n",
    "        return 5\n",
    "\n",
    "reviews['rating'] = reviews.apply(calculate_ranking, axis=1)"
   ]
  },
  {
   "cell_type": "code",
   "execution_count": 42,
   "metadata": {},
   "outputs": [
    {
     "data": {
      "text/html": [
       "<div>\n",
       "<style scoped>\n",
       "    .dataframe tbody tr th:only-of-type {\n",
       "        vertical-align: middle;\n",
       "    }\n",
       "\n",
       "    .dataframe tbody tr th {\n",
       "        vertical-align: top;\n",
       "    }\n",
       "\n",
       "    .dataframe thead th {\n",
       "        text-align: right;\n",
       "    }\n",
       "</style>\n",
       "<table border=\"1\" class=\"dataframe\">\n",
       "  <thead>\n",
       "    <tr style=\"text-align: right;\">\n",
       "      <th></th>\n",
       "      <th>user_id</th>\n",
       "      <th>user_url</th>\n",
       "      <th>reviews_item_id</th>\n",
       "      <th>reviews_helpful</th>\n",
       "      <th>reviews_recommend</th>\n",
       "      <th>posted_year</th>\n",
       "      <th>sentiment_analysis</th>\n",
       "      <th>release_year</th>\n",
       "      <th>rating</th>\n",
       "    </tr>\n",
       "  </thead>\n",
       "  <tbody>\n",
       "    <tr>\n",
       "      <th>0</th>\n",
       "      <td>76561197970982479</td>\n",
       "      <td>http://steamcommunity.com/profiles/76561197970...</td>\n",
       "      <td>1250</td>\n",
       "      <td>No ratings yet</td>\n",
       "      <td>True</td>\n",
       "      <td>2011</td>\n",
       "      <td>1</td>\n",
       "      <td>2009</td>\n",
       "      <td>3</td>\n",
       "    </tr>\n",
       "    <tr>\n",
       "      <th>1</th>\n",
       "      <td>evcentric</td>\n",
       "      <td>http://steamcommunity.com/id/evcentric</td>\n",
       "      <td>248820</td>\n",
       "      <td>No ratings yet</td>\n",
       "      <td>True</td>\n",
       "      <td>2011</td>\n",
       "      <td>2</td>\n",
       "      <td>2013</td>\n",
       "      <td>5</td>\n",
       "    </tr>\n",
       "    <tr>\n",
       "      <th>2</th>\n",
       "      <td>doctr</td>\n",
       "      <td>http://steamcommunity.com/id/doctr</td>\n",
       "      <td>250320</td>\n",
       "      <td>2 of 2 people (100%) found this review helpful</td>\n",
       "      <td>True</td>\n",
       "      <td>2013</td>\n",
       "      <td>2</td>\n",
       "      <td>2013</td>\n",
       "      <td>5</td>\n",
       "    </tr>\n",
       "    <tr>\n",
       "      <th>3</th>\n",
       "      <td>maplemage</td>\n",
       "      <td>http://steamcommunity.com/id/maplemage</td>\n",
       "      <td>211420</td>\n",
       "      <td>35 of 43 people (81%) found this review helpful</td>\n",
       "      <td>True</td>\n",
       "      <td>2014</td>\n",
       "      <td>1</td>\n",
       "      <td>2012</td>\n",
       "      <td>3</td>\n",
       "    </tr>\n",
       "    <tr>\n",
       "      <th>4</th>\n",
       "      <td>Wackky</td>\n",
       "      <td>http://steamcommunity.com/id/Wackky</td>\n",
       "      <td>249130</td>\n",
       "      <td>7 of 8 people (88%) found this review helpful</td>\n",
       "      <td>True</td>\n",
       "      <td>2014</td>\n",
       "      <td>0</td>\n",
       "      <td>2013</td>\n",
       "      <td>1</td>\n",
       "    </tr>\n",
       "    <tr>\n",
       "      <th>...</th>\n",
       "      <td>...</td>\n",
       "      <td>...</td>\n",
       "      <td>...</td>\n",
       "      <td>...</td>\n",
       "      <td>...</td>\n",
       "      <td>...</td>\n",
       "      <td>...</td>\n",
       "      <td>...</td>\n",
       "      <td>...</td>\n",
       "    </tr>\n",
       "    <tr>\n",
       "      <th>48685</th>\n",
       "      <td>kushikushigani</td>\n",
       "      <td>http://steamcommunity.com/id/kushikushigani</td>\n",
       "      <td>332310</td>\n",
       "      <td>No ratings yet</td>\n",
       "      <td>True</td>\n",
       "      <td>2015</td>\n",
       "      <td>1</td>\n",
       "      <td>2017</td>\n",
       "      <td>3</td>\n",
       "    </tr>\n",
       "    <tr>\n",
       "      <th>48686</th>\n",
       "      <td>How51</td>\n",
       "      <td>http://steamcommunity.com/id/How51</td>\n",
       "      <td>440</td>\n",
       "      <td>No ratings yet</td>\n",
       "      <td>True</td>\n",
       "      <td>2014</td>\n",
       "      <td>1</td>\n",
       "      <td>2007</td>\n",
       "      <td>3</td>\n",
       "    </tr>\n",
       "    <tr>\n",
       "      <th>48687</th>\n",
       "      <td>76561198111410893</td>\n",
       "      <td>http://steamcommunity.com/profiles/76561198111...</td>\n",
       "      <td>304930</td>\n",
       "      <td>No ratings yet</td>\n",
       "      <td>True</td>\n",
       "      <td>2014</td>\n",
       "      <td>1</td>\n",
       "      <td>2017</td>\n",
       "      <td>3</td>\n",
       "    </tr>\n",
       "    <tr>\n",
       "      <th>48688</th>\n",
       "      <td>zaza147</td>\n",
       "      <td>http://steamcommunity.com/id/zaza147</td>\n",
       "      <td>265630</td>\n",
       "      <td>No ratings yet</td>\n",
       "      <td>True</td>\n",
       "      <td>2015</td>\n",
       "      <td>2</td>\n",
       "      <td>2014</td>\n",
       "      <td>5</td>\n",
       "    </tr>\n",
       "    <tr>\n",
       "      <th>48689</th>\n",
       "      <td>lifeonhigh</td>\n",
       "      <td>http://steamcommunity.com/id/lifeonhigh</td>\n",
       "      <td>304050</td>\n",
       "      <td>No ratings yet</td>\n",
       "      <td>True</td>\n",
       "      <td>2015</td>\n",
       "      <td>1</td>\n",
       "      <td>2015</td>\n",
       "      <td>3</td>\n",
       "    </tr>\n",
       "  </tbody>\n",
       "</table>\n",
       "<p>48690 rows × 9 columns</p>\n",
       "</div>"
      ],
      "text/plain": [
       "                 user_id                                           user_url  \\\n",
       "0      76561197970982479  http://steamcommunity.com/profiles/76561197970...   \n",
       "1              evcentric             http://steamcommunity.com/id/evcentric   \n",
       "2                  doctr                 http://steamcommunity.com/id/doctr   \n",
       "3              maplemage             http://steamcommunity.com/id/maplemage   \n",
       "4                 Wackky                http://steamcommunity.com/id/Wackky   \n",
       "...                  ...                                                ...   \n",
       "48685     kushikushigani        http://steamcommunity.com/id/kushikushigani   \n",
       "48686              How51                 http://steamcommunity.com/id/How51   \n",
       "48687  76561198111410893  http://steamcommunity.com/profiles/76561198111...   \n",
       "48688            zaza147               http://steamcommunity.com/id/zaza147   \n",
       "48689         lifeonhigh            http://steamcommunity.com/id/lifeonhigh   \n",
       "\n",
       "       reviews_item_id                                  reviews_helpful  \\\n",
       "0                 1250                                   No ratings yet   \n",
       "1               248820                                   No ratings yet   \n",
       "2               250320   2 of 2 people (100%) found this review helpful   \n",
       "3               211420  35 of 43 people (81%) found this review helpful   \n",
       "4               249130    7 of 8 people (88%) found this review helpful   \n",
       "...                ...                                              ...   \n",
       "48685           332310                                   No ratings yet   \n",
       "48686              440                                   No ratings yet   \n",
       "48687           304930                                   No ratings yet   \n",
       "48688           265630                                   No ratings yet   \n",
       "48689           304050                                   No ratings yet   \n",
       "\n",
       "       reviews_recommend  posted_year  sentiment_analysis  release_year  \\\n",
       "0                   True         2011                   1          2009   \n",
       "1                   True         2011                   2          2013   \n",
       "2                   True         2013                   2          2013   \n",
       "3                   True         2014                   1          2012   \n",
       "4                   True         2014                   0          2013   \n",
       "...                  ...          ...                 ...           ...   \n",
       "48685               True         2015                   1          2017   \n",
       "48686               True         2014                   1          2007   \n",
       "48687               True         2014                   1          2017   \n",
       "48688               True         2015                   2          2014   \n",
       "48689               True         2015                   1          2015   \n",
       "\n",
       "       rating  \n",
       "0           3  \n",
       "1           5  \n",
       "2           5  \n",
       "3           3  \n",
       "4           1  \n",
       "...       ...  \n",
       "48685       3  \n",
       "48686       3  \n",
       "48687       3  \n",
       "48688       5  \n",
       "48689       3  \n",
       "\n",
       "[48690 rows x 9 columns]"
      ]
     },
     "execution_count": 42,
     "metadata": {},
     "output_type": "execute_result"
    }
   ],
   "source": [
    "reviews"
   ]
  },
  {
   "cell_type": "markdown",
   "metadata": {},
   "source": [
    "Se aplica esta función en una nueva columna sobre el dataframe df_reviews"
   ]
  },
  {
   "cell_type": "code",
   "execution_count": 43,
   "metadata": {},
   "outputs": [
    {
     "data": {
      "text/plain": [
       "array([3, 5, 1], dtype=int64)"
      ]
     },
     "execution_count": 43,
     "metadata": {},
     "output_type": "execute_result"
    }
   ],
   "source": [
    "#mostrar de la columna 'rating' los valores unicos\n",
    "reviews['rating'].unique()"
   ]
  },
  {
   "cell_type": "code",
   "execution_count": 44,
   "metadata": {},
   "outputs": [
    {
     "data": {
      "text/plain": [
       "(48690, 9)"
      ]
     },
     "execution_count": 44,
     "metadata": {},
     "output_type": "execute_result"
    }
   ],
   "source": [
    "reviews.shape  "
   ]
  },
  {
   "cell_type": "code",
   "execution_count": 45,
   "metadata": {},
   "outputs": [
    {
     "data": {
      "text/html": [
       "<div>\n",
       "<style scoped>\n",
       "    .dataframe tbody tr th:only-of-type {\n",
       "        vertical-align: middle;\n",
       "    }\n",
       "\n",
       "    .dataframe tbody tr th {\n",
       "        vertical-align: top;\n",
       "    }\n",
       "\n",
       "    .dataframe thead th {\n",
       "        text-align: right;\n",
       "    }\n",
       "</style>\n",
       "<table border=\"1\" class=\"dataframe\">\n",
       "  <thead>\n",
       "    <tr style=\"text-align: right;\">\n",
       "      <th></th>\n",
       "      <th>user_id</th>\n",
       "      <th>reviews_item_id</th>\n",
       "      <th>rating</th>\n",
       "    </tr>\n",
       "  </thead>\n",
       "  <tbody>\n",
       "    <tr>\n",
       "      <th>0</th>\n",
       "      <td>76561197970982479</td>\n",
       "      <td>1250</td>\n",
       "      <td>3</td>\n",
       "    </tr>\n",
       "    <tr>\n",
       "      <th>1</th>\n",
       "      <td>evcentric</td>\n",
       "      <td>248820</td>\n",
       "      <td>5</td>\n",
       "    </tr>\n",
       "    <tr>\n",
       "      <th>2</th>\n",
       "      <td>doctr</td>\n",
       "      <td>250320</td>\n",
       "      <td>5</td>\n",
       "    </tr>\n",
       "    <tr>\n",
       "      <th>3</th>\n",
       "      <td>maplemage</td>\n",
       "      <td>211420</td>\n",
       "      <td>3</td>\n",
       "    </tr>\n",
       "    <tr>\n",
       "      <th>4</th>\n",
       "      <td>Wackky</td>\n",
       "      <td>249130</td>\n",
       "      <td>1</td>\n",
       "    </tr>\n",
       "  </tbody>\n",
       "</table>\n",
       "</div>"
      ],
      "text/plain": [
       "             user_id  reviews_item_id  rating\n",
       "0  76561197970982479             1250       3\n",
       "1          evcentric           248820       5\n",
       "2              doctr           250320       5\n",
       "3          maplemage           211420       3\n",
       "4             Wackky           249130       1"
      ]
     },
     "execution_count": 45,
     "metadata": {},
     "output_type": "execute_result"
    }
   ],
   "source": [
    "#Creo un nuevo df1. Me quedo con las columnas user_id, reviews_item_id y rating\n",
    "df1 = reviews[['user_id', 'reviews_item_id', 'rating']]\n",
    "df1.head()"
   ]
  },
  {
   "cell_type": "markdown",
   "metadata": {},
   "source": [
    "##### Se crea otro dataframe que contenga unicamente los 'item_id' y los nombres de los juego."
   ]
  },
  {
   "cell_type": "code",
   "execution_count": 46,
   "metadata": {},
   "outputs": [
    {
     "name": "stdout",
     "output_type": "stream",
     "text": [
      "(10050, 2)\n"
     ]
    },
    {
     "data": {
      "text/html": [
       "<div>\n",
       "<style scoped>\n",
       "    .dataframe tbody tr th:only-of-type {\n",
       "        vertical-align: middle;\n",
       "    }\n",
       "\n",
       "    .dataframe tbody tr th {\n",
       "        vertical-align: top;\n",
       "    }\n",
       "\n",
       "    .dataframe thead th {\n",
       "        text-align: right;\n",
       "    }\n",
       "</style>\n",
       "<table border=\"1\" class=\"dataframe\">\n",
       "  <thead>\n",
       "    <tr style=\"text-align: right;\">\n",
       "      <th></th>\n",
       "      <th>item_id</th>\n",
       "      <th>item_name</th>\n",
       "    </tr>\n",
       "  </thead>\n",
       "  <tbody>\n",
       "    <tr>\n",
       "      <th>0</th>\n",
       "      <td>10</td>\n",
       "      <td>Counter-Strike</td>\n",
       "    </tr>\n",
       "    <tr>\n",
       "      <th>1</th>\n",
       "      <td>30</td>\n",
       "      <td>Day of Defeat</td>\n",
       "    </tr>\n",
       "    <tr>\n",
       "      <th>2</th>\n",
       "      <td>300</td>\n",
       "      <td>Day of Defeat: Source</td>\n",
       "    </tr>\n",
       "    <tr>\n",
       "      <th>3</th>\n",
       "      <td>240</td>\n",
       "      <td>Counter-Strike: Source</td>\n",
       "    </tr>\n",
       "    <tr>\n",
       "      <th>4</th>\n",
       "      <td>3830</td>\n",
       "      <td>Psychonauts</td>\n",
       "    </tr>\n",
       "  </tbody>\n",
       "</table>\n",
       "</div>"
      ],
      "text/plain": [
       "   item_id               item_name\n",
       "0       10          Counter-Strike\n",
       "1       30           Day of Defeat\n",
       "2      300   Day of Defeat: Source\n",
       "3      240  Counter-Strike: Source\n",
       "4     3830             Psychonauts"
      ]
     },
     "execution_count": 46,
     "metadata": {},
     "output_type": "execute_result"
    }
   ],
   "source": [
    "#creo un df2 con las columnas item_id y item_name\n",
    "df2 = items[['item_id', 'item_name']]\n",
    "# Se borran los duplicados\n",
    "df2 = df2.drop_duplicates()\n",
    "\n",
    "print(df2.shape) # Tamaño\n",
    "df2.head()"
   ]
  },
  {
   "cell_type": "code",
   "execution_count": 47,
   "metadata": {},
   "outputs": [
    {
     "data": {
      "text/html": [
       "<div>\n",
       "<style scoped>\n",
       "    .dataframe tbody tr th:only-of-type {\n",
       "        vertical-align: middle;\n",
       "    }\n",
       "\n",
       "    .dataframe tbody tr th {\n",
       "        vertical-align: top;\n",
       "    }\n",
       "\n",
       "    .dataframe thead th {\n",
       "        text-align: right;\n",
       "    }\n",
       "</style>\n",
       "<table border=\"1\" class=\"dataframe\">\n",
       "  <thead>\n",
       "    <tr style=\"text-align: right;\">\n",
       "      <th></th>\n",
       "      <th>user_id</th>\n",
       "      <th>reviews_item_id</th>\n",
       "      <th>rating</th>\n",
       "      <th>item_id</th>\n",
       "      <th>item_name</th>\n",
       "    </tr>\n",
       "  </thead>\n",
       "  <tbody>\n",
       "    <tr>\n",
       "      <th>0</th>\n",
       "      <td>76561197970982479</td>\n",
       "      <td>1250</td>\n",
       "      <td>3</td>\n",
       "      <td>1250.0</td>\n",
       "      <td>Killing Floor</td>\n",
       "    </tr>\n",
       "    <tr>\n",
       "      <th>1</th>\n",
       "      <td>evcentric</td>\n",
       "      <td>248820</td>\n",
       "      <td>5</td>\n",
       "      <td>248820.0</td>\n",
       "      <td>Risk of Rain</td>\n",
       "    </tr>\n",
       "    <tr>\n",
       "      <th>2</th>\n",
       "      <td>doctr</td>\n",
       "      <td>250320</td>\n",
       "      <td>5</td>\n",
       "      <td>250320.0</td>\n",
       "      <td>The Wolf Among Us</td>\n",
       "    </tr>\n",
       "    <tr>\n",
       "      <th>3</th>\n",
       "      <td>maplemage</td>\n",
       "      <td>211420</td>\n",
       "      <td>3</td>\n",
       "      <td>211420.0</td>\n",
       "      <td>Dark Souls: Prepare to Die Edition</td>\n",
       "    </tr>\n",
       "    <tr>\n",
       "      <th>4</th>\n",
       "      <td>Wackky</td>\n",
       "      <td>249130</td>\n",
       "      <td>1</td>\n",
       "      <td>249130.0</td>\n",
       "      <td>LEGO® MARVEL Super Heroes</td>\n",
       "    </tr>\n",
       "    <tr>\n",
       "      <th>...</th>\n",
       "      <td>...</td>\n",
       "      <td>...</td>\n",
       "      <td>...</td>\n",
       "      <td>...</td>\n",
       "      <td>...</td>\n",
       "    </tr>\n",
       "    <tr>\n",
       "      <th>48685</th>\n",
       "      <td>kushikushigani</td>\n",
       "      <td>332310</td>\n",
       "      <td>3</td>\n",
       "      <td>332310.0</td>\n",
       "      <td>LEGO® Worlds</td>\n",
       "    </tr>\n",
       "    <tr>\n",
       "      <th>48686</th>\n",
       "      <td>How51</td>\n",
       "      <td>440</td>\n",
       "      <td>3</td>\n",
       "      <td>NaN</td>\n",
       "      <td>NaN</td>\n",
       "    </tr>\n",
       "    <tr>\n",
       "      <th>48687</th>\n",
       "      <td>76561198111410893</td>\n",
       "      <td>304930</td>\n",
       "      <td>3</td>\n",
       "      <td>304930.0</td>\n",
       "      <td>Unturned</td>\n",
       "    </tr>\n",
       "    <tr>\n",
       "      <th>48688</th>\n",
       "      <td>zaza147</td>\n",
       "      <td>265630</td>\n",
       "      <td>5</td>\n",
       "      <td>265630.0</td>\n",
       "      <td>Fistful of Frags</td>\n",
       "    </tr>\n",
       "    <tr>\n",
       "      <th>48689</th>\n",
       "      <td>lifeonhigh</td>\n",
       "      <td>304050</td>\n",
       "      <td>3</td>\n",
       "      <td>304050.0</td>\n",
       "      <td>Trove</td>\n",
       "    </tr>\n",
       "  </tbody>\n",
       "</table>\n",
       "<p>48690 rows × 5 columns</p>\n",
       "</div>"
      ],
      "text/plain": [
       "                 user_id  reviews_item_id  rating   item_id  \\\n",
       "0      76561197970982479             1250       3    1250.0   \n",
       "1              evcentric           248820       5  248820.0   \n",
       "2                  doctr           250320       5  250320.0   \n",
       "3              maplemage           211420       3  211420.0   \n",
       "4                 Wackky           249130       1  249130.0   \n",
       "...                  ...              ...     ...       ...   \n",
       "48685     kushikushigani           332310       3  332310.0   \n",
       "48686              How51              440       3       NaN   \n",
       "48687  76561198111410893           304930       3  304930.0   \n",
       "48688            zaza147           265630       5  265630.0   \n",
       "48689         lifeonhigh           304050       3  304050.0   \n",
       "\n",
       "                                item_name  \n",
       "0                           Killing Floor  \n",
       "1                            Risk of Rain  \n",
       "2                       The Wolf Among Us  \n",
       "3      Dark Souls: Prepare to Die Edition  \n",
       "4               LEGO® MARVEL Super Heroes  \n",
       "...                                   ...  \n",
       "48685                        LEGO® Worlds  \n",
       "48686                                 NaN  \n",
       "48687                            Unturned  \n",
       "48688                    Fistful of Frags  \n",
       "48689                               Trove  \n",
       "\n",
       "[48690 rows x 5 columns]"
      ]
     },
     "execution_count": 47,
     "metadata": {},
     "output_type": "execute_result"
    }
   ],
   "source": [
    "#uno los dos dataframes por la columna reviews_item_id y item_id\n",
    "df_joined = df1.merge(df2, left_on=\"reviews_item_id\", right_on=\"item_id\", how='left')\n",
    "df_joined"
   ]
  },
  {
   "cell_type": "code",
   "execution_count": 48,
   "metadata": {},
   "outputs": [
    {
     "name": "stdout",
     "output_type": "stream",
     "text": [
      "<class 'pandas.core.frame.DataFrame'>\n",
      "RangeIndex: 48690 entries, 0 to 48689\n",
      "Data columns (total 5 columns):\n",
      " #   Column           Non-Null Count  Dtype  \n",
      "---  ------           --------------  -----  \n",
      " 0   user_id          48690 non-null  object \n",
      " 1   reviews_item_id  48690 non-null  int64  \n",
      " 2   rating           48690 non-null  int64  \n",
      " 3   item_id          44092 non-null  float64\n",
      " 4   item_name        44092 non-null  object \n",
      "dtypes: float64(1), int64(2), object(2)\n",
      "memory usage: 1.9+ MB\n"
     ]
    }
   ],
   "source": [
    "df_joined.info()"
   ]
  },
  {
   "cell_type": "code",
   "execution_count": 49,
   "metadata": {},
   "outputs": [
    {
     "data": {
      "text/html": [
       "<div>\n",
       "<style scoped>\n",
       "    .dataframe tbody tr th:only-of-type {\n",
       "        vertical-align: middle;\n",
       "    }\n",
       "\n",
       "    .dataframe tbody tr th {\n",
       "        vertical-align: top;\n",
       "    }\n",
       "\n",
       "    .dataframe thead th {\n",
       "        text-align: right;\n",
       "    }\n",
       "</style>\n",
       "<table border=\"1\" class=\"dataframe\">\n",
       "  <thead>\n",
       "    <tr style=\"text-align: right;\">\n",
       "      <th></th>\n",
       "      <th>user_id</th>\n",
       "      <th>reviews_item_id</th>\n",
       "      <th>rating</th>\n",
       "      <th>item_id</th>\n",
       "      <th>item_name</th>\n",
       "    </tr>\n",
       "  </thead>\n",
       "  <tbody>\n",
       "    <tr>\n",
       "      <th>8</th>\n",
       "      <td>76561198077246154</td>\n",
       "      <td>440</td>\n",
       "      <td>3</td>\n",
       "      <td>NaN</td>\n",
       "      <td>NaN</td>\n",
       "    </tr>\n",
       "    <tr>\n",
       "      <th>16</th>\n",
       "      <td>devvonst</td>\n",
       "      <td>440</td>\n",
       "      <td>5</td>\n",
       "      <td>NaN</td>\n",
       "      <td>NaN</td>\n",
       "    </tr>\n",
       "    <tr>\n",
       "      <th>29</th>\n",
       "      <td>boydeer</td>\n",
       "      <td>440</td>\n",
       "      <td>3</td>\n",
       "      <td>NaN</td>\n",
       "      <td>NaN</td>\n",
       "    </tr>\n",
       "    <tr>\n",
       "      <th>34</th>\n",
       "      <td>jarrodtrim</td>\n",
       "      <td>440</td>\n",
       "      <td>5</td>\n",
       "      <td>NaN</td>\n",
       "      <td>NaN</td>\n",
       "    </tr>\n",
       "    <tr>\n",
       "      <th>36</th>\n",
       "      <td>76561198067936203</td>\n",
       "      <td>440</td>\n",
       "      <td>3</td>\n",
       "      <td>NaN</td>\n",
       "      <td>NaN</td>\n",
       "    </tr>\n",
       "    <tr>\n",
       "      <th>...</th>\n",
       "      <td>...</td>\n",
       "      <td>...</td>\n",
       "      <td>...</td>\n",
       "      <td>...</td>\n",
       "      <td>...</td>\n",
       "    </tr>\n",
       "    <tr>\n",
       "      <th>48651</th>\n",
       "      <td>JacTehSharp</td>\n",
       "      <td>440</td>\n",
       "      <td>3</td>\n",
       "      <td>NaN</td>\n",
       "      <td>NaN</td>\n",
       "    </tr>\n",
       "    <tr>\n",
       "      <th>48653</th>\n",
       "      <td>ViniReaper</td>\n",
       "      <td>440</td>\n",
       "      <td>5</td>\n",
       "      <td>NaN</td>\n",
       "      <td>NaN</td>\n",
       "    </tr>\n",
       "    <tr>\n",
       "      <th>48673</th>\n",
       "      <td>BlinkV1</td>\n",
       "      <td>440</td>\n",
       "      <td>3</td>\n",
       "      <td>NaN</td>\n",
       "      <td>NaN</td>\n",
       "    </tr>\n",
       "    <tr>\n",
       "      <th>48678</th>\n",
       "      <td>76561198095035915</td>\n",
       "      <td>440</td>\n",
       "      <td>1</td>\n",
       "      <td>NaN</td>\n",
       "      <td>NaN</td>\n",
       "    </tr>\n",
       "    <tr>\n",
       "      <th>48686</th>\n",
       "      <td>How51</td>\n",
       "      <td>440</td>\n",
       "      <td>3</td>\n",
       "      <td>NaN</td>\n",
       "      <td>NaN</td>\n",
       "    </tr>\n",
       "  </tbody>\n",
       "</table>\n",
       "<p>4598 rows × 5 columns</p>\n",
       "</div>"
      ],
      "text/plain": [
       "                 user_id  reviews_item_id  rating  item_id item_name\n",
       "8      76561198077246154              440       3      NaN       NaN\n",
       "16              devvonst              440       5      NaN       NaN\n",
       "29               boydeer              440       3      NaN       NaN\n",
       "34            jarrodtrim              440       5      NaN       NaN\n",
       "36     76561198067936203              440       3      NaN       NaN\n",
       "...                  ...              ...     ...      ...       ...\n",
       "48651        JacTehSharp              440       3      NaN       NaN\n",
       "48653         ViniReaper              440       5      NaN       NaN\n",
       "48673            BlinkV1              440       3      NaN       NaN\n",
       "48678  76561198095035915              440       1      NaN       NaN\n",
       "48686              How51              440       3      NaN       NaN\n",
       "\n",
       "[4598 rows x 5 columns]"
      ]
     },
     "execution_count": 49,
     "metadata": {},
     "output_type": "execute_result"
    }
   ],
   "source": [
    "# se revisan los reviews sin nombres de juegos\n",
    "# Selecciona las filas con valores nulos. \n",
    "# .any(axis=1) es para que busque en las filas\n",
    "nan_item = df_joined[df_joined.isnull().any(axis=1)] \n",
    "nan_item"
   ]
  },
  {
   "cell_type": "code",
   "execution_count": 50,
   "metadata": {},
   "outputs": [
    {
     "name": "stdout",
     "output_type": "stream",
     "text": [
      "257\n"
     ]
    },
    {
     "data": {
      "text/html": [
       "<div>\n",
       "<style scoped>\n",
       "    .dataframe tbody tr th:only-of-type {\n",
       "        vertical-align: middle;\n",
       "    }\n",
       "\n",
       "    .dataframe tbody tr th {\n",
       "        vertical-align: top;\n",
       "    }\n",
       "\n",
       "    .dataframe thead th {\n",
       "        text-align: right;\n",
       "    }\n",
       "</style>\n",
       "<table border=\"1\" class=\"dataframe\">\n",
       "  <thead>\n",
       "    <tr style=\"text-align: right;\">\n",
       "      <th></th>\n",
       "      <th>user_id</th>\n",
       "      <th>reviews_item_id</th>\n",
       "      <th>rating</th>\n",
       "      <th>item_id</th>\n",
       "      <th>item_name</th>\n",
       "    </tr>\n",
       "  </thead>\n",
       "  <tbody>\n",
       "    <tr>\n",
       "      <th>8</th>\n",
       "      <td>76561198077246154</td>\n",
       "      <td>440</td>\n",
       "      <td>3</td>\n",
       "      <td>NaN</td>\n",
       "      <td>NaN</td>\n",
       "    </tr>\n",
       "    <tr>\n",
       "      <th>16</th>\n",
       "      <td>devvonst</td>\n",
       "      <td>440</td>\n",
       "      <td>5</td>\n",
       "      <td>NaN</td>\n",
       "      <td>NaN</td>\n",
       "    </tr>\n",
       "    <tr>\n",
       "      <th>29</th>\n",
       "      <td>boydeer</td>\n",
       "      <td>440</td>\n",
       "      <td>3</td>\n",
       "      <td>NaN</td>\n",
       "      <td>NaN</td>\n",
       "    </tr>\n",
       "    <tr>\n",
       "      <th>34</th>\n",
       "      <td>jarrodtrim</td>\n",
       "      <td>440</td>\n",
       "      <td>5</td>\n",
       "      <td>NaN</td>\n",
       "      <td>NaN</td>\n",
       "    </tr>\n",
       "    <tr>\n",
       "      <th>36</th>\n",
       "      <td>76561198067936203</td>\n",
       "      <td>440</td>\n",
       "      <td>3</td>\n",
       "      <td>NaN</td>\n",
       "      <td>NaN</td>\n",
       "    </tr>\n",
       "  </tbody>\n",
       "</table>\n",
       "</div>"
      ],
      "text/plain": [
       "              user_id  reviews_item_id  rating  item_id item_name\n",
       "8   76561198077246154              440       3      NaN       NaN\n",
       "16           devvonst              440       5      NaN       NaN\n",
       "29            boydeer              440       3      NaN       NaN\n",
       "34         jarrodtrim              440       5      NaN       NaN\n",
       "36  76561198067936203              440       3      NaN       NaN"
      ]
     },
     "execution_count": 50,
     "metadata": {},
     "output_type": "execute_result"
    }
   ],
   "source": [
    "# Se calculan la cantidad de juegos en esta situación\n",
    "# Se usa la función 'unique()' para obtener los valores únicos\n",
    "print(len(nan_item['reviews_item_id'].unique()))\n",
    "nan_item.head()"
   ]
  },
  {
   "cell_type": "markdown",
   "metadata": {},
   "source": [
    "* Hay 257 juegos que no tienen item_id pero sí tienen reviews. No me sirven dado que el sistema de recomendacion estara basado en estos atributos, necesito a ambos."
   ]
  },
  {
   "cell_type": "code",
   "execution_count": 51,
   "metadata": {},
   "outputs": [
    {
     "name": "stdout",
     "output_type": "stream",
     "text": [
      "<class 'pandas.core.frame.DataFrame'>\n",
      "Index: 44092 entries, 0 to 48689\n",
      "Data columns (total 5 columns):\n",
      " #   Column           Non-Null Count  Dtype  \n",
      "---  ------           --------------  -----  \n",
      " 0   user_id          44092 non-null  object \n",
      " 1   reviews_item_id  44092 non-null  int64  \n",
      " 2   rating           44092 non-null  int64  \n",
      " 3   item_id          44092 non-null  float64\n",
      " 4   item_name        44092 non-null  object \n",
      "dtypes: float64(1), int64(2), object(2)\n",
      "memory usage: 2.0+ MB\n"
     ]
    }
   ],
   "source": [
    "# Se borran los nulos\n",
    "df_joined = df_joined.dropna(subset=['item_id'])\n",
    "df_joined.info()"
   ]
  },
  {
   "cell_type": "code",
   "execution_count": 52,
   "metadata": {},
   "outputs": [
    {
     "data": {
      "text/plain": [
       "(44092, 5)"
      ]
     },
     "execution_count": 52,
     "metadata": {},
     "output_type": "execute_result"
    }
   ],
   "source": [
    "df_joined.shape # Tamaño"
   ]
  },
  {
   "cell_type": "markdown",
   "metadata": {},
   "source": [
    "Se obtiene el dataset df_4_model que contiene la informacion que necesito para realizar el modelo de recomendacion."
   ]
  },
  {
   "cell_type": "code",
   "execution_count": 53,
   "metadata": {},
   "outputs": [
    {
     "data": {
      "text/html": [
       "<div>\n",
       "<style scoped>\n",
       "    .dataframe tbody tr th:only-of-type {\n",
       "        vertical-align: middle;\n",
       "    }\n",
       "\n",
       "    .dataframe tbody tr th {\n",
       "        vertical-align: top;\n",
       "    }\n",
       "\n",
       "    .dataframe thead th {\n",
       "        text-align: right;\n",
       "    }\n",
       "</style>\n",
       "<table border=\"1\" class=\"dataframe\">\n",
       "  <thead>\n",
       "    <tr style=\"text-align: right;\">\n",
       "      <th></th>\n",
       "      <th>user_id</th>\n",
       "      <th>item_name</th>\n",
       "      <th>rating</th>\n",
       "      <th>item_id</th>\n",
       "    </tr>\n",
       "  </thead>\n",
       "  <tbody>\n",
       "    <tr>\n",
       "      <th>0</th>\n",
       "      <td>76561197970982479</td>\n",
       "      <td>Killing Floor</td>\n",
       "      <td>3</td>\n",
       "      <td>1250.0</td>\n",
       "    </tr>\n",
       "    <tr>\n",
       "      <th>1</th>\n",
       "      <td>evcentric</td>\n",
       "      <td>Risk of Rain</td>\n",
       "      <td>5</td>\n",
       "      <td>248820.0</td>\n",
       "    </tr>\n",
       "    <tr>\n",
       "      <th>2</th>\n",
       "      <td>doctr</td>\n",
       "      <td>The Wolf Among Us</td>\n",
       "      <td>5</td>\n",
       "      <td>250320.0</td>\n",
       "    </tr>\n",
       "    <tr>\n",
       "      <th>3</th>\n",
       "      <td>maplemage</td>\n",
       "      <td>Dark Souls: Prepare to Die Edition</td>\n",
       "      <td>3</td>\n",
       "      <td>211420.0</td>\n",
       "    </tr>\n",
       "    <tr>\n",
       "      <th>4</th>\n",
       "      <td>Wackky</td>\n",
       "      <td>LEGO® MARVEL Super Heroes</td>\n",
       "      <td>1</td>\n",
       "      <td>249130.0</td>\n",
       "    </tr>\n",
       "  </tbody>\n",
       "</table>\n",
       "</div>"
      ],
      "text/plain": [
       "             user_id                           item_name  rating   item_id\n",
       "0  76561197970982479                       Killing Floor       3    1250.0\n",
       "1          evcentric                        Risk of Rain       5  248820.0\n",
       "2              doctr                   The Wolf Among Us       5  250320.0\n",
       "3          maplemage  Dark Souls: Prepare to Die Edition       3  211420.0\n",
       "4             Wackky           LEGO® MARVEL Super Heroes       1  249130.0"
      ]
     },
     "execution_count": 53,
     "metadata": {},
     "output_type": "execute_result"
    }
   ],
   "source": [
    "df_4_model = df_joined[['user_id', 'item_name', 'rating','item_id' ]]\n",
    "df_4_model.head(5)"
   ]
  },
  {
   "cell_type": "code",
   "execution_count": 54,
   "metadata": {},
   "outputs": [
    {
     "data": {
      "text/plain": [
       "dtype('float64')"
      ]
     },
     "execution_count": 54,
     "metadata": {},
     "output_type": "execute_result"
    }
   ],
   "source": [
    "#tipo de dato item_id\n",
    "df_4_model['item_id'].dtype\n"
   ]
  },
  {
   "cell_type": "code",
   "execution_count": 55,
   "metadata": {},
   "outputs": [
    {
     "data": {
      "text/plain": [
       "dtype('int64')"
      ]
     },
     "execution_count": 55,
     "metadata": {},
     "output_type": "execute_result"
    }
   ],
   "source": [
    "#pasar item_id a int64\n",
    "df_4_model['item_id'] = df_4_model['item_id'].astype('int64')\n",
    "df_4_model['item_id'].dtype "
   ]
  },
  {
   "cell_type": "code",
   "execution_count": 56,
   "metadata": {},
   "outputs": [],
   "source": [
    "# Agrupa las calificaciones por rating\n",
    "ratings_count = df_4_model['rating'].value_counts().reset_index()\n",
    "ratings_count.columns = ['rating', 'count']\n",
    "# Agrupa los juegos únicos por rating\n",
    "unique_games_per_rating = df_4_model.groupby('rating')['item_name'].nunique().reset_index()"
   ]
  },
  {
   "cell_type": "code",
   "execution_count": 57,
   "metadata": {},
   "outputs": [
    {
     "data": {
      "text/html": [
       "<div>\n",
       "<style scoped>\n",
       "    .dataframe tbody tr th:only-of-type {\n",
       "        vertical-align: middle;\n",
       "    }\n",
       "\n",
       "    .dataframe tbody tr th {\n",
       "        vertical-align: top;\n",
       "    }\n",
       "\n",
       "    .dataframe thead th {\n",
       "        text-align: right;\n",
       "    }\n",
       "</style>\n",
       "<table border=\"1\" class=\"dataframe\">\n",
       "  <thead>\n",
       "    <tr style=\"text-align: right;\">\n",
       "      <th></th>\n",
       "      <th>rating</th>\n",
       "      <th>item_name</th>\n",
       "    </tr>\n",
       "  </thead>\n",
       "  <tbody>\n",
       "    <tr>\n",
       "      <th>0</th>\n",
       "      <td>1</td>\n",
       "      <td>1472</td>\n",
       "    </tr>\n",
       "    <tr>\n",
       "      <th>1</th>\n",
       "      <td>3</td>\n",
       "      <td>2107</td>\n",
       "    </tr>\n",
       "    <tr>\n",
       "      <th>2</th>\n",
       "      <td>5</td>\n",
       "      <td>1543</td>\n",
       "    </tr>\n",
       "  </tbody>\n",
       "</table>\n",
       "</div>"
      ],
      "text/plain": [
       "   rating  item_name\n",
       "0       1       1472\n",
       "1       3       2107\n",
       "2       5       1543"
      ]
     },
     "execution_count": 57,
     "metadata": {},
     "output_type": "execute_result"
    }
   ],
   "source": [
    "unique_games_per_rating"
   ]
  },
  {
   "cell_type": "markdown",
   "metadata": {},
   "source": [
    "* Entre el rating 3 y 5 se encuentra el 70% de los juegos. Lo que indica que mas de la mitad de los juegos son recomendados por los usarios. "
   ]
  },
  {
   "cell_type": "code",
   "execution_count": 58,
   "metadata": {},
   "outputs": [],
   "source": [
    "df_4_model.to_csv('data_clean/10-df4_model.csv', index=False, encoding='utf-8')"
   ]
  },
  {
   "cell_type": "code",
   "execution_count": 59,
   "metadata": {},
   "outputs": [],
   "source": [
    "modelo_recomend = pd.read_csv(\"data_clean/10-df4_model.csv\") # leemos el archivo csv\n",
    "\n",
    "tabla = pa.Table.from_pandas(modelo_recomend) # convertimos el dataframe en una tabla de pyarrow\n",
    "pq.write_table(tabla,\"data_clean/10-df4_model.parquet\") # exportamos la tabla a parquet"
   ]
  },
  {
   "cell_type": "code",
   "execution_count": null,
   "metadata": {},
   "outputs": [],
   "source": []
  }
 ],
 "metadata": {
  "kernelspec": {
   "display_name": "Python 3",
   "language": "python",
   "name": "python3"
  },
  "language_info": {
   "codemirror_mode": {
    "name": "ipython",
    "version": 3
   },
   "file_extension": ".py",
   "mimetype": "text/x-python",
   "name": "python",
   "nbconvert_exporter": "python",
   "pygments_lexer": "ipython3",
   "version": "3.12.2"
  }
 },
 "nbformat": 4,
 "nbformat_minor": 2
}
